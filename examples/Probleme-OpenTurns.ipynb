{
 "cells": [
  {
   "cell_type": "code",
   "execution_count": 1,
   "metadata": {},
   "outputs": [],
   "source": [
    "# -*- coding: utf8 -*-\n",
    "import os\n",
    "import time\n",
    "import numpy as np\n",
    "import math as m\n",
    "import openturns as ot\n",
    "import json\n",
    "import requests"
   ]
  },
  {
   "cell_type": "code",
   "execution_count": 2,
   "metadata": {},
   "outputs": [],
   "source": [
    "from evaluate import evaluate"
   ]
  },
  {
   "cell_type": "code",
   "execution_count": 3,
   "metadata": {},
   "outputs": [],
   "source": [
    "username = 'testuser'\n",
    "password = 'testpass'\n",
    "set_id = -1\n",
    "problem_id  = 2\n",
    "def g_fun(x):\n",
    "        #g_val_comp = evaluate(username, password, set_id, problem_id, x)\n",
    "        g_val_sys, g_val_comp, msg = evaluate(username, password, set_id, problem_id, x)\n",
    "        return g_val_comp"
   ]
  },
  {
   "cell_type": "code",
   "execution_count": 4,
   "metadata": {},
   "outputs": [],
   "source": [
    "x=[[0.545, 1.23],[ 0.7, 1],[0.545, 1.23]]"
   ]
  },
  {
   "cell_type": "code",
   "execution_count": 5,
   "metadata": {},
   "outputs": [
    {
     "name": "stdout",
     "output_type": "stream",
     "text": [
      "[1.2918078899383545, 1.3069183826446533, 1.2918078899383545]\n",
      "Durée de la simulation : 0.87 s\n"
     ]
    }
   ],
   "source": [
    "start_time = time.time()\n",
    "print(g_fun(x))\n",
    "interval = time.time() - start_time\n",
    "print (\"Durée de la simulation :\", round(interval, 2), \"s\")"
   ]
  },
  {
   "cell_type": "code",
   "execution_count": 6,
   "metadata": {},
   "outputs": [],
   "source": [
    "myFunction = ot.PythonFunction(2, 1, g_fun)"
   ]
  },
  {
   "cell_type": "code",
   "execution_count": 7,
   "metadata": {},
   "outputs": [
    {
     "name": "stdout",
     "output_type": "stream",
     "text": [
      "    [ y0      ]\r\n",
      "0 : [ 1.29181 ]\r\n",
      "1 : [ 1.30692 ]\r\n",
      "2 : [ 1.29181 ]\n",
      "Durée de la simulation : 2.31 s\n"
     ]
    }
   ],
   "source": [
    "start_time = time.time()\n",
    "print(myFunction(x))\n",
    "interval = time.time() - start_time\n",
    "print (\"Durée de la simulation :\", round(interval, 2), \"s\")"
   ]
  },
  {
   "cell_type": "code",
   "execution_count": 8,
   "metadata": {},
   "outputs": [],
   "source": [
    "dist_X1 = ot.Normal(0., 1.)\n",
    "dist_X2 = ot.Normal(0., 1.)\n",
    "myDistribution = ot.ComposedDistribution([dist_X1, dist_X2])\n",
    "myRandomVector = ot.RandomVector(myDistribution)"
   ]
  },
  {
   "cell_type": "code",
   "execution_count": 9,
   "metadata": {
    "scrolled": false
   },
   "outputs": [],
   "source": [
    "myFunction = ot.PythonFunction(2, 1, g_fun)\n",
    "myOutputVector = ot.CompositeRandomVector(myFunction, myRandomVector)\n",
    "#myOutputVector.getSample(10)"
   ]
  },
  {
   "cell_type": "code",
   "execution_count": 10,
   "metadata": {},
   "outputs": [],
   "source": [
    "event = ot.Event(myOutputVector, ot.LessOrEqual(), 0.0)\n",
    "# We create an OptimizationAlgorithm algorithm\n",
    "solver = ot.SQP()\n",
    "algo = ot.SORM(solver, event, [0.,0.])\n",
    "algo.run()\n",
    "result = algo.getResult()"
   ]
  },
  {
   "cell_type": "code",
   "execution_count": 11,
   "metadata": {},
   "outputs": [
    {
     "name": "stdout",
     "output_type": "stream",
     "text": [
      "0.004403034626735833 0.004268174603760942 0.004208097382029138\n"
     ]
    }
   ],
   "source": [
    "print(result.getEventProbabilityBreitung(),\n",
    "result.getEventProbabilityHohenBichler(),\n",
    "result.getEventProbabilityTvedt())"
   ]
  },
  {
   "cell_type": "code",
   "execution_count": 12,
   "metadata": {},
   "outputs": [
    {
     "name": "stdout",
     "output_type": "stream",
     "text": [
      "Design point: [1.76777,1.76777] \n",
      "Absolute error: 2.396972138859378e-07 \n",
      "Residual error: 2.3969721404294707e-07 \n",
      "Evaluation number: 7\n"
     ]
    }
   ],
   "source": [
    "optres = result.getOptimizationResult()\n",
    "print(\n",
    "\"Design point:\", optres.getOptimalPoint(),\"\\n\" \n",
    "\"Absolute error:\", optres.getAbsoluteError(),\"\\n\"#norme inifnie entre Xn et Xn+1\n",
    "\"Residual error:\", optres.getResidualError() ,\"\\n\" \n",
    "\"Evaluation number:\", optres.getEvaluationNumber())"
   ]
  },
  {
   "cell_type": "code",
   "execution_count": null,
   "metadata": {},
   "outputs": [],
   "source": []
  }
 ],
 "metadata": {
  "kernelspec": {
   "display_name": "Python 3",
   "language": "python",
   "name": "python3"
  },
  "language_info": {
   "codemirror_mode": {
    "name": "ipython",
    "version": 3
   },
   "file_extension": ".py",
   "mimetype": "text/x-python",
   "name": "python",
   "nbconvert_exporter": "python",
   "pygments_lexer": "ipython3",
   "version": "3.7.3"
  },
  "latex_envs": {
   "LaTeX_envs_menu_present": true,
   "autoclose": true,
   "autocomplete": true,
   "bibliofile": "biblio.bib",
   "cite_by": "apalike",
   "current_citInitial": 1,
   "eqLabelWithNumbers": true,
   "eqNumInitial": 1,
   "hotkeys": {
    "equation": "Ctrl-E",
    "itemize": "Ctrl-I"
   },
   "labels_anchors": false,
   "latex_user_defs": false,
   "report_style_numbering": false,
   "user_envs_cfg": false
  },
  "toc": {
   "base_numbering": 1,
   "nav_menu": {},
   "number_sections": true,
   "sideBar": false,
   "skip_h1_title": true,
   "title_cell": "Sommaire",
   "title_sidebar": "Contenu",
   "toc_cell": false,
   "toc_position": {
    "height": "47.7167px",
    "left": "1672px",
    "top": "159.133px",
    "width": "154px"
   },
   "toc_section_display": false,
   "toc_window_display": true
  }
 },
 "nbformat": 4,
 "nbformat_minor": 2
}
