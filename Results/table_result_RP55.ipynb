{
 "cells": [
  {
   "cell_type": "code",
   "execution_count": 1,
   "metadata": {},
   "outputs": [],
   "source": [
    "import openturns as ot\n",
    "import numpy as np\n",
    "import otbenchmark as otb\n",
    "import pandas as pd"
   ]
  },
  {
   "cell_type": "code",
   "execution_count": 2,
   "metadata": {},
   "outputs": [],
   "source": [
    "p = otb.OTReliabilityAlgorithmBenchmark()\n",
    "list = p.problemslist"
   ]
  },
  {
   "cell_type": "code",
   "execution_count": 3,
   "metadata": {},
   "outputs": [],
   "source": [
    "k = 11"
   ]
  },
  {
   "cell_type": "code",
   "execution_count": 4,
   "metadata": {},
   "outputs": [
    {
     "data": {
      "text/plain": [
       "'RP55'"
      ]
     },
     "execution_count": 4,
     "metadata": {},
     "output_type": "execute_result"
    }
   ],
   "source": [
    "name = list[k].getName()\n",
    "name"
   ]
  },
  {
   "cell_type": "code",
   "execution_count": 5,
   "metadata": {},
   "outputs": [
    {
     "data": {
      "text/plain": [
       "1000000000"
      ]
     },
     "execution_count": 5,
     "metadata": {},
     "output_type": "execute_result"
    }
   ],
   "source": [
    "N = 10 ** 9\n",
    "N"
   ]
  },
  {
   "cell_type": "code",
   "execution_count": 6,
   "metadata": {},
   "outputs": [],
   "source": [
    "name = list[k].getName()\n",
    "\n",
    "resultsFORM = otb.OTReliabilityAlgorithmBenchmark.FORM(\n",
    "        list[k],\n",
    "        nearestPointAlgo=\"Cobyla\",\n",
    "        maximumEvaluationNumber=100,\n",
    "        maximumAbsoluteError=1.0e-3,\n",
    "        maximumRelativeError=1.0e-3,\n",
    "        maximumResidualError=1.0e-3,\n",
    "        maximumConstraintError=1.0e-3)\n",
    "\n",
    "resultsSORM = otb.OTReliabilityAlgorithmBenchmark.SORM(\n",
    "        list[k],\n",
    "        nearestPointAlgo=\"Cobyla\",\n",
    "        maximumEvaluationNumber=100,\n",
    "        maximumAbsoluteError=1.0e-3,\n",
    "        maximumRelativeError=1.0e-3,\n",
    "        maximumResidualError=1.0e-3,\n",
    "        maximumConstraintError=1.0e-3)\n",
    "\n",
    "resultsMC = otb.OTReliabilityAlgorithmBenchmark.MonteCarloSampling(list[k], maximumOuterSampling=N,\n",
    "                                                                   coefficientOfVariation=0.1, blockSize=2)\n",
    "\n",
    "resultFORMIS = otb.OTReliabilityAlgorithmBenchmark.FORMImportanceSampling(list[k],\n",
    "        nearestPointAlgo=\"Cobyla\",\n",
    "        maximumEvaluationNumber=100,\n",
    "        maximumAbsoluteError=1.0e-3,\n",
    "        maximumRelativeError=1.0e-3,\n",
    "        maximumResidualError=1.0e-3,\n",
    "        maximumConstraintError=1.0e-3,\n",
    "        maximumOuterSampling=N,\n",
    "        coefficientOfVariation=0.1)\n",
    "\n",
    "resultSubset = otb.OTReliabilityAlgorithmBenchmark.SubsetSampling(\n",
    "        list[k], maximumOuterSampling=10000, coefficientOfVariation=0.1, blockSize=1)\n",
    "\n",
    "result = [resultsMC, resultsFORM, resultsSORM, resultFORMIS, resultSubset]"
   ]
  },
  {
   "cell_type": "code",
   "execution_count": 7,
   "metadata": {},
   "outputs": [],
   "source": [
    "a = \"[%.5f, %.5f] \" % ( resultsMC[4], resultsMC[5])\n",
    "\n",
    "\n",
    "b = \"[%.5f, %.5f] \" % ( resultFORMIS[4], resultFORMIS[5])\n",
    "\n",
    "\n",
    "c = \"[%.5f, %.5f] \" % ( resultSubset[4], resultSubset[5])\n"
   ]
  },
  {
   "cell_type": "code",
   "execution_count": 8,
   "metadata": {},
   "outputs": [
    {
     "data": {
      "text/plain": [
       "'[4.3158647e-01, 6.398421e-01]'"
      ]
     },
     "execution_count": 8,
     "metadata": {},
     "output_type": "execute_result"
    }
   ],
   "source": [
    "mc1 = np.format_float_scientific(np.float32(resultsMC[4]))\n",
    "mc2 = np.format_float_scientific(np.float32(resultsMC[5]))\n",
    "\n",
    "ic1 = \"[\"+mc1+\", \"+mc2+\"]\"\n",
    "ic1"
   ]
  },
  {
   "cell_type": "code",
   "execution_count": 9,
   "metadata": {},
   "outputs": [
    {
     "data": {
      "text/plain": [
       "'[3.7693688e-01, 5.6003916e-01]'"
      ]
     },
     "execution_count": 9,
     "metadata": {},
     "output_type": "execute_result"
    }
   ],
   "source": [
    "formis1 = np.format_float_scientific(np.float32(resultFORMIS[4]))\n",
    "formis2 = np.format_float_scientific(np.float32(resultFORMIS[5]))\n",
    "\n",
    "ic2 = \"[\"+formis1+\", \"+formis2+\"]\"\n",
    "ic2"
   ]
  },
  {
   "cell_type": "code",
   "execution_count": 10,
   "metadata": {},
   "outputs": [
    {
     "data": {
      "text/plain": [
       "'[5.5327827e-01, 5.727217e-01]'"
      ]
     },
     "execution_count": 10,
     "metadata": {},
     "output_type": "execute_result"
    }
   ],
   "source": [
    "subset1 = np.format_float_scientific(np.float32(resultSubset[4]))\n",
    "subset2 = np.format_float_scientific(np.float32(resultSubset[5]))\n",
    "\n",
    "ic3 = \"[\"+subset1+\", \"+subset2+\"]\"\n",
    "\n",
    "ic3"
   ]
  },
  {
   "cell_type": "code",
   "execution_count": null,
   "metadata": {},
   "outputs": [],
   "source": []
  },
  {
   "cell_type": "code",
   "execution_count": 11,
   "metadata": {},
   "outputs": [
    {
     "data": {
      "text/plain": [
       "[[None, None, None, '[0.43159, 0.63984] ', None],\n",
       " [None, None, None, '[0.43159, 0.63984] ', None],\n",
       " [None, None, None, '[0.43159, 0.63984] ', None],\n",
       " [None, None, None, '[0.43159, 0.63984] ', None],\n",
       " [None, None, None, '[0.43159, 0.63984] ', None],\n",
       " [None, None, None, '[0.43159, 0.63984] ', None]]"
      ]
     },
     "execution_count": 11,
     "metadata": {},
     "output_type": "execute_result"
    }
   ],
   "source": [
    "M = [[None]*5]*6\n",
    "\n",
    "M[2][3] = a\n",
    "\n",
    "M"
   ]
  },
  {
   "cell_type": "code",
   "execution_count": 12,
   "metadata": {},
   "outputs": [],
   "source": [
    "l = np.array([[1, 1, 1, ic3, 1, a], [1, 1, 1, ic3, 1, a], [1, 1, 1, ic3, 1, a], [1, 1, 1, ic3, 1, a],[1, 1, 1, ic3, 1, a]])"
   ]
  },
  {
   "cell_type": "code",
   "execution_count": 13,
   "metadata": {},
   "outputs": [
    {
     "name": "stdout",
     "output_type": "stream",
     "text": [
      "Function g :  [x1,x2]->[var g1 := 0.2 + 0.6 * (x1 - x2)^4 - (x1 - x2) / sqrt(2);var g2 := 0.2 + 0.6 * (x1 - x2)^4 + (x1 - x2) / sqrt(2);var g3 := (x1 - x2) + 5 / sqrt(2) - 2.2;var g4 := (x2 - x1) + 5 / sqrt(2) - 2.2;gsys := min(g1, g2, g3, g4)]\n"
     ]
    },
    {
     "data": {
      "text/html": [
       "<div>\n",
       "<style scoped>\n",
       "    .dataframe tbody tr th:only-of-type {\n",
       "        vertical-align: middle;\n",
       "    }\n",
       "\n",
       "    .dataframe tbody tr th {\n",
       "        vertical-align: top;\n",
       "    }\n",
       "\n",
       "    .dataframe thead th {\n",
       "        text-align: right;\n",
       "    }\n",
       "</style>\n",
       "<table border=\"1\" class=\"dataframe\">\n",
       "  <thead>\n",
       "    <tr style=\"text-align: right;\">\n",
       "      <th></th>\n",
       "      <th>Probabilité de référence de RP55</th>\n",
       "      <th>Probabilité estimée</th>\n",
       "      <th>Erreur absolue</th>\n",
       "      <th>Intervalle de confiance</th>\n",
       "      <th>nombre d'évaluations</th>\n",
       "      <th>Log erreur relative</th>\n",
       "    </tr>\n",
       "  </thead>\n",
       "  <tbody>\n",
       "    <tr>\n",
       "      <td>CMC</td>\n",
       "      <td>5.9e-01</td>\n",
       "      <td>5.3571427e-01</td>\n",
       "      <td>5.4285713e-02</td>\n",
       "      <td>[4.3158647e-01, 6.398421e-01]</td>\n",
       "      <td>140</td>\n",
       "      <td>1.04</td>\n",
       "    </tr>\n",
       "    <tr>\n",
       "      <td>FORM</td>\n",
       "      <td>5.9e-01</td>\n",
       "      <td>3.990057e-01</td>\n",
       "      <td>1.9099428e-01</td>\n",
       "      <td>-----------------</td>\n",
       "      <td>36</td>\n",
       "      <td>0.49</td>\n",
       "    </tr>\n",
       "    <tr>\n",
       "      <td>SORM</td>\n",
       "      <td>5.9e-01</td>\n",
       "      <td>3.9262876e-01</td>\n",
       "      <td>1.9737124e-01</td>\n",
       "      <td>-----------------</td>\n",
       "      <td>49</td>\n",
       "      <td>0.48</td>\n",
       "    </tr>\n",
       "    <tr>\n",
       "      <td>FORM-IS</td>\n",
       "      <td>5.9e-01</td>\n",
       "      <td>4.68488e-01</td>\n",
       "      <td>1.2151198e-01</td>\n",
       "      <td>[3.7693688e-01, 5.6003916e-01</td>\n",
       "      <td>159</td>\n",
       "      <td>0.69</td>\n",
       "    </tr>\n",
       "    <tr>\n",
       "      <td>SUBSET</td>\n",
       "      <td>5.9e-01</td>\n",
       "      <td>5.63e-01</td>\n",
       "      <td>2.7e-02</td>\n",
       "      <td>[5.5327827e-01, 5.727217e-01]</td>\n",
       "      <td>10000</td>\n",
       "      <td>1.34</td>\n",
       "    </tr>\n",
       "  </tbody>\n",
       "</table>\n",
       "</div>"
      ],
      "text/plain": [
       "        Probabilité de référence de RP55 Probabilité estimée Erreur absolue  \\\n",
       "CMC                              5.9e-01       5.3571427e-01  5.4285713e-02   \n",
       "FORM                             5.9e-01        3.990057e-01  1.9099428e-01   \n",
       "SORM                             5.9e-01       3.9262876e-01  1.9737124e-01   \n",
       "FORM-IS                          5.9e-01         4.68488e-01  1.2151198e-01   \n",
       "SUBSET                           5.9e-01            5.63e-01        2.7e-02   \n",
       "\n",
       "               Intervalle de confiance nombre d'évaluations  \\\n",
       "CMC      [4.3158647e-01, 6.398421e-01]                  140   \n",
       "FORM                 -----------------                   36   \n",
       "SORM                 -----------------                   49   \n",
       "FORM-IS  [3.7693688e-01, 5.6003916e-01                  159   \n",
       "SUBSET   [5.5327827e-01, 5.727217e-01]                10000   \n",
       "\n",
       "        Log erreur relative  \n",
       "CMC                   1.04   \n",
       "FORM                  0.49   \n",
       "SORM                  0.48   \n",
       "FORM-IS               0.69   \n",
       "SUBSET                1.34   "
      ]
     },
     "execution_count": 13,
     "metadata": {},
     "output_type": "execute_result"
    }
   ],
   "source": [
    "\n",
    "method = [\"CMC\", \"FORM\", \"SORM\", \"FORM-IS\", \"SUBSET\"]\n",
    "metrics = [\"Probabilité de référence de \"+name, \"Probabilité estimée\", \"Erreur absolue\",\"Intervalle de confiance\",\n",
    "           \"nombre d'évaluations\", \"Log erreur relative\"]\n",
    "\n",
    "results = l\n",
    "\n",
    "\n",
    "\n",
    "for i in range(len(method)):\n",
    "    results[i][0] =  np.format_float_scientific(np.float32(list[k].getProbability()))\n",
    "\n",
    "for i in range(len(method)):\n",
    "    results[i][1] =  np.format_float_scientific(np.float32(result[i][0]))\n",
    "\n",
    "for i in range(len(method)):\n",
    "    results[i][2] =  np.format_float_scientific(np.float32(result[i][1]))\n",
    "\n",
    "for i in range(len(method)):\n",
    "    results[i][4] =  result[i][3]\n",
    "    \n",
    "for i in range(len(method)):\n",
    "    results[i][5] =  \"%.2f \" % (result[i][2])\n",
    "\n",
    "\n",
    "results[0][3] = ic1\n",
    "results[1][3] = \"-----------------\"\n",
    "results[2][3] = \"-----------------\"\n",
    "results[3][3] = ic2\n",
    "results[4][3] = ic3\n",
    "\n",
    "\n",
    "df = pd.DataFrame(results, index = method, columns=metrics)\n",
    "print(\"Function g : \", list[k].getEvent().getFunction())\n",
    "df"
   ]
  },
  {
   "cell_type": "code",
   "execution_count": 14,
   "metadata": {},
   "outputs": [],
   "source": [
    "df.to_csv('problem55.csv')"
   ]
  },
  {
   "cell_type": "code",
   "execution_count": null,
   "metadata": {},
   "outputs": [],
   "source": []
  }
 ],
 "metadata": {
  "kernelspec": {
   "display_name": "Python 3",
   "language": "python",
   "name": "python3"
  },
  "language_info": {
   "codemirror_mode": {
    "name": "ipython",
    "version": 3
   },
   "file_extension": ".py",
   "mimetype": "text/x-python",
   "name": "python",
   "nbconvert_exporter": "python",
   "pygments_lexer": "ipython3",
   "version": "3.7.4"
  }
 },
 "nbformat": 4,
 "nbformat_minor": 2
}
