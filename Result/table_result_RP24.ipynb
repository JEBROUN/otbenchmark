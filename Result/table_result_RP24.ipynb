{
 "cells": [
  {
   "cell_type": "code",
   "execution_count": 1,
   "metadata": {},
   "outputs": [],
   "source": [
    "import openturns as ot\n",
    "import numpy as np\n",
    "import otbenchmark as otb\n",
    "import pandas as pd"
   ]
  },
  {
   "cell_type": "code",
   "execution_count": 2,
   "metadata": {},
   "outputs": [],
   "source": [
    "p = otb.OTReliabilityAlgorithmBenchmark()\n",
    "list = p.problemslist"
   ]
  },
  {
   "cell_type": "code",
   "execution_count": 3,
   "metadata": {},
   "outputs": [],
   "source": [
    "k = 3"
   ]
  },
  {
   "cell_type": "code",
   "execution_count": 4,
   "metadata": {},
   "outputs": [
    {
     "data": {
      "text/plain": [
       "'RP24'"
      ]
     },
     "execution_count": 4,
     "metadata": {},
     "output_type": "execute_result"
    }
   ],
   "source": [
    "name = list[k].getName()\n",
    "name"
   ]
  },
  {
   "cell_type": "code",
   "execution_count": 5,
   "metadata": {},
   "outputs": [
    {
     "data": {
      "text/plain": [
       "1000000000"
      ]
     },
     "execution_count": 5,
     "metadata": {},
     "output_type": "execute_result"
    }
   ],
   "source": [
    "N = 10 ** 9\n",
    "N"
   ]
  },
  {
   "cell_type": "code",
   "execution_count": 6,
   "metadata": {},
   "outputs": [],
   "source": [
    "name = list[k].getName()\n",
    "\n",
    "resultsFORM = otb.OTReliabilityAlgorithmBenchmark.FORM(\n",
    "        list[k],\n",
    "        nearestPointAlgo=\"Cobyla\",\n",
    "        maximumEvaluationNumber=100,\n",
    "        maximumAbsoluteError=1.0e-3,\n",
    "        maximumRelativeError=1.0e-3,\n",
    "        maximumResidualError=1.0e-3,\n",
    "        maximumConstraintError=1.0e-3)\n",
    "\n",
    "resultsSORM = otb.OTReliabilityAlgorithmBenchmark.SORM(\n",
    "        list[k],\n",
    "        nearestPointAlgo=\"Cobyla\",\n",
    "        maximumEvaluationNumber=100,\n",
    "        maximumAbsoluteError=1.0e-3,\n",
    "        maximumRelativeError=1.0e-3,\n",
    "        maximumResidualError=1.0e-3,\n",
    "        maximumConstraintError=1.0e-3)\n",
    "\n",
    "resultsMC = otb.OTReliabilityAlgorithmBenchmark.MonteCarloSampling(list[k], maximumOuterSampling=N,\n",
    "                                                                   coefficientOfVariation=0.1, blockSize=1)\n",
    "\n",
    "resultFORMIS = otb.OTReliabilityAlgorithmBenchmark.FORMImportanceSampling(list[k],\n",
    "        nearestPointAlgo=\"Cobyla\",\n",
    "        maximumEvaluationNumber=100,\n",
    "        maximumAbsoluteError=1.0e-3,\n",
    "        maximumRelativeError=1.0e-3,\n",
    "        maximumResidualError=1.0e-3,\n",
    "        maximumConstraintError=1.0e-3,\n",
    "        maximumOuterSampling=N,\n",
    "        coefficientOfVariation=0.1)\n",
    "\n",
    "resultSubset = otb.OTReliabilityAlgorithmBenchmark.SubsetSampling(\n",
    "        list[k], maximumOuterSampling=10000, coefficientOfVariation=0.1, blockSize=1)\n",
    "\n",
    "result = [resultsMC, resultsFORM, resultsSORM, resultFORMIS, resultSubset]"
   ]
  },
  {
   "cell_type": "code",
   "execution_count": 7,
   "metadata": {},
   "outputs": [],
   "source": [
    "a = \"[%.8f,%.8f] \" % ( resultsMC[4], resultsMC[5])\n",
    "\n",
    "\n",
    "b = \"[%.8f,%.8f] \" % ( resultFORMIS[4], resultFORMIS[5])\n",
    "\n",
    "\n",
    "c = \"[%.8f,%.8f] \" % ( resultSubset[4], resultSubset[5])\n"
   ]
  },
  {
   "cell_type": "code",
   "execution_count": 8,
   "metadata": {},
   "outputs": [
    {
     "data": {
      "text/plain": [
       "[[None, None, None, '[0.00229920,0.00341819] ', None],\n",
       " [None, None, None, '[0.00229920,0.00341819] ', None],\n",
       " [None, None, None, '[0.00229920,0.00341819] ', None],\n",
       " [None, None, None, '[0.00229920,0.00341819] ', None],\n",
       " [None, None, None, '[0.00229920,0.00341819] ', None],\n",
       " [None, None, None, '[0.00229920,0.00341819] ', None]]"
      ]
     },
     "execution_count": 8,
     "metadata": {},
     "output_type": "execute_result"
    }
   ],
   "source": [
    "M = [[None]*5]*6\n",
    "\n",
    "M[2][3] = a\n",
    "\n",
    "M"
   ]
  },
  {
   "cell_type": "code",
   "execution_count": 9,
   "metadata": {},
   "outputs": [],
   "source": [
    "l = np.array([[1, 1, 1, a, 1, 1], [1, 1, 1, a, 1, 1], [1, 1, 1, a, 1, 1], [1, 1, 1, a, 1, 1],[1, 1, 1, a, 1, 1]])"
   ]
  },
  {
   "cell_type": "code",
   "execution_count": 10,
   "metadata": {},
   "outputs": [
    {
     "name": "stdout",
     "output_type": "stream",
     "text": [
      "Function g :  [x1,x2]->[2.5 - 0.2357 * (x1 - x2) + 0.00463 * (x1 + x2 - 20)^4]\n"
     ]
    },
    {
     "data": {
      "text/html": [
       "<div>\n",
       "<style scoped>\n",
       "    .dataframe tbody tr th:only-of-type {\n",
       "        vertical-align: middle;\n",
       "    }\n",
       "\n",
       "    .dataframe tbody tr th {\n",
       "        vertical-align: top;\n",
       "    }\n",
       "\n",
       "    .dataframe thead th {\n",
       "        text-align: right;\n",
       "    }\n",
       "</style>\n",
       "<table border=\"1\" class=\"dataframe\">\n",
       "  <thead>\n",
       "    <tr style=\"text-align: right;\">\n",
       "      <th></th>\n",
       "      <th>Probabilité exacte de RP24</th>\n",
       "      <th>Probabilité estimée</th>\n",
       "      <th>Erreur absolue</th>\n",
       "      <th>Intervalle de confiance</th>\n",
       "      <th>nombre d'évaluations</th>\n",
       "      <th>Log erreur relative</th>\n",
       "    </tr>\n",
       "  </thead>\n",
       "  <tbody>\n",
       "    <tr>\n",
       "      <td>CMC</td>\n",
       "      <td>3.2363855e-03</td>\n",
       "      <td>2.8586946e-03</td>\n",
       "      <td>3.7769089e-04</td>\n",
       "      <td>-----------------</td>\n",
       "      <td>34981</td>\n",
       "      <td>0.932923757350505</td>\n",
       "    </tr>\n",
       "    <tr>\n",
       "      <td>FORM</td>\n",
       "      <td>3.2363855e-03</td>\n",
       "      <td>8.197536e-03</td>\n",
       "      <td>4.9611507e-03</td>\n",
       "      <td>-----------------</td>\n",
       "      <td>101</td>\n",
       "      <td>-0.1855221456136619</td>\n",
       "    </tr>\n",
       "    <tr>\n",
       "      <td>SORM</td>\n",
       "      <td>3.2363855e-03</td>\n",
       "      <td>8.197536e-03</td>\n",
       "      <td>4.96115e-03</td>\n",
       "      <td>[0.00229920,0.00341819]</td>\n",
       "      <td>101</td>\n",
       "      <td>-0.18552212882639527</td>\n",
       "    </tr>\n",
       "    <tr>\n",
       "      <td>FORM-IS</td>\n",
       "      <td>3.2363855e-03</td>\n",
       "      <td>3.135539e-03</td>\n",
       "      <td>1.0084666e-04</td>\n",
       "      <td>[0.00264565,0.00341635]</td>\n",
       "      <td>724</td>\n",
       "      <td>1.5063987700569268</td>\n",
       "    </tr>\n",
       "    <tr>\n",
       "      <td>SUBSET</td>\n",
       "      <td>3.2363855e-03</td>\n",
       "      <td>3.031e-03</td>\n",
       "      <td>2.053856e-04</td>\n",
       "      <td>[0.00252447,0.00374661]</td>\n",
       "      <td>30000</td>\n",
       "      <td>1.1974902600637052</td>\n",
       "    </tr>\n",
       "  </tbody>\n",
       "</table>\n",
       "</div>"
      ],
      "text/plain": [
       "        Probabilité exacte de RP24 Probabilité estimée Erreur absolue  \\\n",
       "CMC                  3.2363855e-03       2.8586946e-03  3.7769089e-04   \n",
       "FORM                 3.2363855e-03        8.197536e-03  4.9611507e-03   \n",
       "SORM                 3.2363855e-03        8.197536e-03    4.96115e-03   \n",
       "FORM-IS              3.2363855e-03        3.135539e-03  1.0084666e-04   \n",
       "SUBSET               3.2363855e-03           3.031e-03   2.053856e-04   \n",
       "\n",
       "          Intervalle de confiance nombre d'évaluations   Log erreur relative  \n",
       "CMC             -----------------                34981     0.932923757350505  \n",
       "FORM            -----------------                  101   -0.1855221456136619  \n",
       "SORM     [0.00229920,0.00341819]                   101  -0.18552212882639527  \n",
       "FORM-IS  [0.00264565,0.00341635]                   724    1.5063987700569268  \n",
       "SUBSET   [0.00252447,0.00374661]                 30000    1.1974902600637052  "
      ]
     },
     "execution_count": 10,
     "metadata": {},
     "output_type": "execute_result"
    }
   ],
   "source": [
    "\n",
    "method = [\"CMC\", \"FORM\", \"SORM\", \"FORM-IS\", \"SUBSET\"]\n",
    "metrics = [\"Probabilité exacte de \"+name, \"Probabilité estimée\", \"Erreur absolue\",\"Intervalle de confiance\",\n",
    "           \"nombre d'évaluations\", \"Log erreur relative\"]\n",
    "\n",
    "results = l\n",
    "\n",
    "\n",
    "\n",
    "for i in range(len(method)):\n",
    "    results[i][0] =  np.format_float_scientific(np.float32(list[k].getProbability()))\n",
    "\n",
    "for i in range(len(method)):\n",
    "    results[i][1] =  np.format_float_scientific(np.float32(result[i][0]))\n",
    "\n",
    "for i in range(len(method)):\n",
    "    results[i][2] =  np.format_float_scientific(np.float32(result[i][1]))\n",
    "\n",
    "for i in range(len(method)):\n",
    "    results[i][4] =  result[i][3]\n",
    "    \n",
    "for i in range(len(method)):\n",
    "    results[i][5] =  result[i][2]\n",
    "\n",
    "results[0][3] = \"-----------------\"\n",
    "results[1][3] = \"-----------------\"\n",
    "results[2][3] = a\n",
    "\n",
    "results[3][3] = c\n",
    " \n",
    "results[4][3] = b\n",
    "\n",
    "\n",
    "df = pd.DataFrame(results, index = method, columns=metrics)\n",
    "print(\"Function g : \", list[k].getEvent().getFunction())\n",
    "df"
   ]
  },
  {
   "cell_type": "code",
   "execution_count": 11,
   "metadata": {},
   "outputs": [],
   "source": [
    "df.to_csv('problem24.csv')"
   ]
  }
 ],
 "metadata": {
  "kernelspec": {
   "display_name": "Python 3",
   "language": "python",
   "name": "python3"
  },
  "language_info": {
   "codemirror_mode": {
    "name": "ipython",
    "version": 3
   },
   "file_extension": ".py",
   "mimetype": "text/x-python",
   "name": "python",
   "nbconvert_exporter": "python",
   "pygments_lexer": "ipython3",
   "version": "3.7.4"
  }
 },
 "nbformat": 4,
 "nbformat_minor": 2
}
