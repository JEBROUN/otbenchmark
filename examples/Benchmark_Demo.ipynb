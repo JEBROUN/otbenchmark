{
 "cells": [
  {
   "cell_type": "markdown",
   "metadata": {},
   "source": [
    "# Benchmark the reliability solvers on the problems. "
   ]
  },
  {
   "cell_type": "code",
   "execution_count": 1,
   "metadata": {},
   "outputs": [],
   "source": [
    "import openturns as ot\n",
    "import numpy as np\n",
    "import otbenchmark as otb"
   ]
  },
  {
   "cell_type": "code",
   "execution_count": 2,
   "metadata": {},
   "outputs": [],
   "source": [
    "import openturns.viewer as otv\n",
    "import numpy as np\n",
    "import matplotlib.pyplot as plt\n",
    "import pylab as pl"
   ]
  },
  {
   "cell_type": "markdown",
   "metadata": {},
   "source": [
    "We import the list of Reliability Problems"
   ]
  },
  {
   "cell_type": "code",
   "execution_count": 3,
   "metadata": {},
   "outputs": [],
   "source": [
    "p = otb.mini_Benchmark()\n",
    "List = p.problemslist"
   ]
  },
  {
   "cell_type": "code",
   "execution_count": 4,
   "metadata": {},
   "outputs": [
    {
     "name": "stdout",
     "output_type": "stream",
     "text": [
      "Name of the problem :  RP8  ,its index in the list is  0  probability exact is :  0.000784\n",
      "Name of the problem :  RP14  ,its index in the list is  1  probability exact is :  0.00752\n",
      "Name of the problem :  RP22  ,its index in the list is  2  probability exact is :  0.00416\n",
      "Name of the problem :  RP24  ,its index in the list is  3  probability exact is :  0.00286\n",
      "Name of the problem :  RP25  ,its index in the list is  4  probability exact is :  6.14e-06\n",
      "Name of the problem :  RP28  ,its index in the list is  5  probability exact is :  1.46e-07\n",
      "Name of the problem :  RP31  ,its index in the list is  6  probability exact is :  0.00018\n",
      "Name of the problem :  RP33  ,its index in the list is  7  probability exact is :  0.00257\n",
      "Name of the problem :  RP35  ,its index in the list is  8  probability exact is :  0.00354\n",
      "Name of the problem :  RP38  ,its index in the list is  9  probability exact is :  0.0081\n",
      "Name of the problem :  RP53  ,its index in the list is  10  probability exact is :  0.0313\n",
      "Name of the problem :  RP55  ,its index in the list is  11  probability exact is :  0.36\n",
      "Name of the problem :  RP57  ,its index in the list is  12  probability exact is :  0.0284\n",
      "Name of the problem :  RP75  ,its index in the list is  13  probability exact is :  0.0107\n",
      "Name of the problem :  RP89  ,its index in the list is  14  probability exact is :  0.00543\n",
      "Name of the problem :  RP107  ,its index in the list is  15  probability exact is :  2.92e-07\n",
      "Name of the problem :  RP110  ,its index in the list is  16  probability exact is :  3.19e-05\n",
      "Name of the problem :  RP111  ,its index in the list is  17  probability exact is :  7.65e-07\n",
      "Name of the problem :  RP63  ,its index in the list is  18  probability exact is :  0.000379\n",
      "Name of the problem :  RP91  ,its index in the list is  19  probability exact is :  0.000697\n",
      "Name of the problem :  RP60  ,its index in the list is  20  probability exact is :  0.0456\n",
      "Name of the problem :  RP77  ,its index in the list is  21  probability exact is :  2.87e-07\n",
      "Name of the problem :  Four-branch serial system (Waarts, 2000)  ,its index in the list is  22  probability exact is :  0.0021859614549132322\n",
      "Name of the problem :  R-S  ,its index in the list is  23  probability exact is :  0.07864960352514257\n",
      "Name of the problem :  Axial stressed beam  ,its index in the list is  24  probability exact is :  0.029198194624830955\n"
     ]
    }
   ],
   "source": [
    "for i in range (np.size(List)):\n",
    "    print(\"Name of the problem : \", List[i].getName(), \" ,its index in the list is \", i, \" probability exact is : \", List[i].getProbability())"
   ]
  },
  {
   "cell_type": "code",
   "execution_count": 5,
   "metadata": {},
   "outputs": [
    {
     "data": {
      "text/html": [
       "<p>[x1,x2]->[2.5 - 0.2357 * (x1 - x2) + 0.00463 * (x1 + x2 - 20)^4]</p>"
      ],
      "text/plain": [
       "class=Function name=Unnamed implementation=class=FunctionImplementation name=Unnamed description=[x1,x2,y0] evaluationImplementation=class=SymbolicEvaluation name=Unnamed inputVariablesNames=[x1,x2] outputVariablesNames=[y0] formulas=[2.5 - 0.2357 * (x1 - x2) + 0.00463 * (x1 + x2 - 20)^4] gradientImplementation=class=SymbolicGradient name=Unnamed evaluation=class=SymbolicEvaluation name=Unnamed inputVariablesNames=[x1,x2] outputVariablesNames=[y0] formulas=[2.5 - 0.2357 * (x1 - x2) + 0.00463 * (x1 + x2 - 20)^4] hessianImplementation=class=SymbolicHessian name=Unnamed evaluation=class=SymbolicEvaluation name=Unnamed inputVariablesNames=[x1,x2] outputVariablesNames=[y0] formulas=[2.5 - 0.2357 * (x1 - x2) + 0.00463 * (x1 + x2 - 20)^4]"
      ]
     },
     "execution_count": 5,
     "metadata": {},
     "output_type": "execute_result"
    }
   ],
   "source": [
    "List[3].getEvent().getFunction()"
   ]
  },
  {
   "cell_type": "code",
   "execution_count": 6,
   "metadata": {},
   "outputs": [
    {
     "name": "stdout",
     "output_type": "stream",
     "text": [
      "probabilityEstime = 0.008197536156089676  absolueError = 0.005337536156089676 numberOfCorrectDigits = -0.2709747967938827 numberOfFunctionEvaluations = 101\n",
      "--------------------------------------------------------\n",
      "probabilityEstime = 0.008197535964320822  absolueError = 0.005337535964320822 numberOfCorrectDigits = -0.2709747811903993 numberOfFunctionEvaluations = 101\n",
      "--------------------------------------------------------\n",
      "probabilityEstime = 0.002858694719990857  absolueError = 1.3052800091430984e-06 numberOfCorrectDigits = 3.3406623464499385 numberOfFunctionEvaluations = 34981\n",
      "--------------------------------------------------------\n",
      "probabilityEstime = 0.003135538951157542  absolueError = 0.0002755389511575417 numberOfCorrectDigits = 1.0161830322023797 numberOfFunctionEvaluations = 724\n",
      "--------------------------------------------------------\n",
      "probabilityEstime = 0.0026187520000000024  absolueError = 0.00024124799999999773 numberOfCorrectDigits = 1.0739023114969026 numberOfFunctionEvaluations = 15000\n"
     ]
    }
   ],
   "source": [
    "i = 3\n",
    "\n",
    "resultFORM = otb.mini_Benchmark.FORM(List[i], nearestPointAlgo=\"Cobyla\",\n",
    "             maximumEvaluationNumber=100,\n",
    "             maximumAbsoluteError=1.e-4,\n",
    "             maximumRelativeError=1.e-3,\n",
    "             maximumResidualError=1.e-3,\n",
    "             maximumConstraintError=1.e-3)\n",
    "\n",
    "resultSORM = otb.mini_Benchmark.SORM(List[i], nearestPointAlgo=\"Cobyla\",\n",
    "             maximumEvaluationNumber=100,\n",
    "             maximumAbsoluteError=1.e-4,\n",
    "             maximumRelativeError=1.e-3,\n",
    "             maximumResidualError=1.e-3,\n",
    "             maximumConstraintError=1.e-3)\n",
    "\n",
    "resultMC = otb.mini_Benchmark.MonteCarloSampling(List[i], \n",
    "             maximumOuterSampling=1000000,\n",
    "             coefficientOfVariation=0.1, \n",
    "             blockSize=1)\n",
    "\n",
    "resultIS = otb.mini_Benchmark.FORMImportanceSampling(List[i], \n",
    "            nearestPointAlgo=\"Cobyla\",\n",
    "            maximumEvaluationNumber=100,\n",
    "            maximumAbsoluteError=1.e-3,\n",
    "            maximumRelativeError=1.e-3,\n",
    "            maximumResidualError=1.e-3,\n",
    "            maximumConstraintError=1.e-3,\n",
    "            maximumOuterSampling=5000,\n",
    "            coefficientOfVariation=0.1)\n",
    "\n",
    "resultSS = otb.mini_Benchmark.SubsetSampling(List[i],\n",
    "            maximumOuterSampling=5000,\n",
    "            coefficientOfVariation=0.1,\n",
    "            blockSize=1)\n",
    "\n",
    "s1 = otb.mini_Benchmark.printResultFORM(resultFORM)\n",
    "s2 = otb.mini_Benchmark.printResultSORM(resultSORM)\n",
    "s3 = otb.mini_Benchmark.printResultMC(resultMC)\n",
    "s4 = otb.mini_Benchmark.printResultFORMIS(resultIS)\n",
    "s5 = otb.mini_Benchmark.printResultSubset(resultSS)\n",
    "print(s1)\n",
    "print(\"--------------------------------------------------------\")\n",
    "print(s2)\n",
    "print(\"--------------------------------------------------------\")\n",
    "print(s3)\n",
    "print(\"--------------------------------------------------------\")\n",
    "print(s4)\n",
    "print(\"--------------------------------------------------------\")\n",
    "print(s5)"
   ]
  },
  {
   "cell_type": "markdown",
   "metadata": {},
   "source": [
    " # you have ideas to complete this work !!!"
   ]
  }
 ],
 "metadata": {
  "kernelspec": {
   "display_name": "Python 3",
   "language": "python",
   "name": "python3"
  },
  "language_info": {
   "codemirror_mode": {
    "name": "ipython",
    "version": 3
   },
   "file_extension": ".py",
   "mimetype": "text/x-python",
   "name": "python",
   "nbconvert_exporter": "python",
   "pygments_lexer": "ipython3",
   "version": "3.7.4"
  }
 },
 "nbformat": 4,
 "nbformat_minor": 2
}
