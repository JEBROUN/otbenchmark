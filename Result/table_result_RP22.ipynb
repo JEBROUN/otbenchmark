{
 "cells": [
  {
   "cell_type": "code",
   "execution_count": 1,
   "metadata": {},
   "outputs": [],
   "source": [
    "import openturns as ot\n",
    "import numpy as np\n",
    "import otbenchmark as otb\n",
    "import pandas as pd"
   ]
  },
  {
   "cell_type": "code",
   "execution_count": 2,
   "metadata": {},
   "outputs": [],
   "source": [
    "p = otb.OTReliabilityAlgorithmBenchmark()\n",
    "list = p.problemslist"
   ]
  },
  {
   "cell_type": "code",
   "execution_count": 3,
   "metadata": {},
   "outputs": [],
   "source": [
    "k = 2"
   ]
  },
  {
   "cell_type": "code",
   "execution_count": 4,
   "metadata": {},
   "outputs": [
    {
     "data": {
      "text/plain": [
       "'RP22'"
      ]
     },
     "execution_count": 4,
     "metadata": {},
     "output_type": "execute_result"
    }
   ],
   "source": [
    "name = list[k].getName()\n",
    "name"
   ]
  },
  {
   "cell_type": "code",
   "execution_count": 5,
   "metadata": {},
   "outputs": [
    {
     "data": {
      "text/plain": [
       "1000000000"
      ]
     },
     "execution_count": 5,
     "metadata": {},
     "output_type": "execute_result"
    }
   ],
   "source": [
    "N = 10 ** 9\n",
    "N"
   ]
  },
  {
   "cell_type": "code",
   "execution_count": 6,
   "metadata": {},
   "outputs": [],
   "source": [
    "name = list[k].getName()\n",
    "\n",
    "resultsFORM = otb.OTReliabilityAlgorithmBenchmark.FORM(\n",
    "        list[k],\n",
    "        nearestPointAlgo=\"Cobyla\",\n",
    "        maximumEvaluationNumber=100,\n",
    "        maximumAbsoluteError=1.0e-3,\n",
    "        maximumRelativeError=1.0e-3,\n",
    "        maximumResidualError=1.0e-3,\n",
    "        maximumConstraintError=1.0e-3)\n",
    "\n",
    "resultsSORM = otb.OTReliabilityAlgorithmBenchmark.SORM(\n",
    "        list[k],\n",
    "        nearestPointAlgo=\"Cobyla\",\n",
    "        maximumEvaluationNumber=100,\n",
    "        maximumAbsoluteError=1.0e-3,\n",
    "        maximumRelativeError=1.0e-3,\n",
    "        maximumResidualError=1.0e-3,\n",
    "        maximumConstraintError=1.0e-3)\n",
    "\n",
    "resultsMC = otb.OTReliabilityAlgorithmBenchmark.MonteCarloSampling(list[k], maximumOuterSampling=N,\n",
    "                                                                   coefficientOfVariation=0.1, blockSize=1)\n",
    "\n",
    "resultFORMIS = otb.OTReliabilityAlgorithmBenchmark.FORMImportanceSampling(list[k],\n",
    "        nearestPointAlgo=\"Cobyla\",\n",
    "        maximumEvaluationNumber=100,\n",
    "        maximumAbsoluteError=1.0e-3,\n",
    "        maximumRelativeError=1.0e-3,\n",
    "        maximumResidualError=1.0e-3,\n",
    "        maximumConstraintError=1.0e-3,\n",
    "        maximumOuterSampling=N,\n",
    "        coefficientOfVariation=0.1)\n",
    "\n",
    "resultSubset = otb.OTReliabilityAlgorithmBenchmark.SubsetSampling(\n",
    "        list[k], maximumOuterSampling=10000, coefficientOfVariation=0.1, blockSize=1)\n",
    "\n",
    "result = [resultsFORM, resultsSORM, resultsMC, resultFORMIS, resultSubset]"
   ]
  },
  {
   "cell_type": "code",
   "execution_count": 7,
   "metadata": {},
   "outputs": [],
   "source": [
    "a = \"[%.8f,%.8f] \" % ( resultsMC[4], resultsMC[5])\n",
    "\n",
    "\n",
    "b = \"[%.8f,%.8f] \" % ( resultFORMIS[4], resultFORMIS[5])\n",
    "\n",
    "\n",
    "c = \"[%.8f,%.8f] \" % ( resultSubset[4], resultSubset[5])\n"
   ]
  },
  {
   "cell_type": "code",
   "execution_count": 8,
   "metadata": {},
   "outputs": [
    {
     "data": {
      "text/plain": [
       "[[None, None, None, '[0.00299211,0.00444754] ', None],\n",
       " [None, None, None, '[0.00299211,0.00444754] ', None],\n",
       " [None, None, None, '[0.00299211,0.00444754] ', None],\n",
       " [None, None, None, '[0.00299211,0.00444754] ', None],\n",
       " [None, None, None, '[0.00299211,0.00444754] ', None],\n",
       " [None, None, None, '[0.00299211,0.00444754] ', None]]"
      ]
     },
     "execution_count": 8,
     "metadata": {},
     "output_type": "execute_result"
    }
   ],
   "source": [
    "M = [[None]*5]*6\n",
    "\n",
    "M[2][3] = a\n",
    "\n",
    "M"
   ]
  },
  {
   "cell_type": "code",
   "execution_count": 9,
   "metadata": {},
   "outputs": [],
   "source": [
    "l = np.array([[1, 1, 1, a, 1, 1], [1, 1, 1, a, 1, 1], [1, 1, 1, a, 1, 1], [1, 1, 1, a, 1, 1],[1, 1, 1, a, 1, 1]])"
   ]
  },
  {
   "cell_type": "code",
   "execution_count": 10,
   "metadata": {},
   "outputs": [
    {
     "name": "stdout",
     "output_type": "stream",
     "text": [
      "Function g :  [x1,x2]->[2.5 - 1 / sqrt(2) * (x1 + x2) + 0.1 * (x1 - x2) ^2]\n"
     ]
    },
    {
     "data": {
      "text/html": [
       "<div>\n",
       "<style scoped>\n",
       "    .dataframe tbody tr th:only-of-type {\n",
       "        vertical-align: middle;\n",
       "    }\n",
       "\n",
       "    .dataframe tbody tr th {\n",
       "        vertical-align: top;\n",
       "    }\n",
       "\n",
       "    .dataframe thead th {\n",
       "        text-align: right;\n",
       "    }\n",
       "</style>\n",
       "<table border=\"1\" class=\"dataframe\">\n",
       "  <thead>\n",
       "    <tr style=\"text-align: right;\">\n",
       "      <th></th>\n",
       "      <th>Probabilité exacte de RP22</th>\n",
       "      <th>Probabilité estimée</th>\n",
       "      <th>Erreur absolue</th>\n",
       "      <th>Intervalle de confiance</th>\n",
       "      <th>nombre d'évaluations</th>\n",
       "      <th>Log erreur relative</th>\n",
       "    </tr>\n",
       "  </thead>\n",
       "  <tbody>\n",
       "    <tr>\n",
       "      <td>FORM</td>\n",
       "      <td>3.2878513e-03</td>\n",
       "      <td>6.227204e-03</td>\n",
       "      <td>2.9393525e-03</td>\n",
       "      <td>-----------------</td>\n",
       "      <td>53</td>\n",
       "      <td>0.04866049876709916</td>\n",
       "    </tr>\n",
       "    <tr>\n",
       "      <td>SORM</td>\n",
       "      <td>3.2878513e-03</td>\n",
       "      <td>4.4037392e-03</td>\n",
       "      <td>1.115888e-03</td>\n",
       "      <td>-----------------</td>\n",
       "      <td>53</td>\n",
       "      <td>0.4692915833305204</td>\n",
       "    </tr>\n",
       "    <tr>\n",
       "      <td>CMC</td>\n",
       "      <td>3.2878513e-03</td>\n",
       "      <td>3.719823e-03</td>\n",
       "      <td>4.3197154e-04</td>\n",
       "      <td>[0.00299211,0.00444754]</td>\n",
       "      <td>26883</td>\n",
       "      <td>0.881457037137907</td>\n",
       "    </tr>\n",
       "    <tr>\n",
       "      <td>FORM-IS</td>\n",
       "      <td>3.2878513e-03</td>\n",
       "      <td>3.97741e-03</td>\n",
       "      <td>6.8955845e-04</td>\n",
       "      <td>[0.00412115,0.00522285]</td>\n",
       "      <td>466</td>\n",
       "      <td>0.6783410874207052</td>\n",
       "    </tr>\n",
       "    <tr>\n",
       "      <td>SUBSET</td>\n",
       "      <td>3.2878513e-03</td>\n",
       "      <td>4.672e-03</td>\n",
       "      <td>1.3841486e-03</td>\n",
       "      <td>[0.00319985,0.00475497]</td>\n",
       "      <td>30000</td>\n",
       "      <td>0.37572945799544144</td>\n",
       "    </tr>\n",
       "  </tbody>\n",
       "</table>\n",
       "</div>"
      ],
      "text/plain": [
       "        Probabilité exacte de RP22 Probabilité estimée Erreur absolue  \\\n",
       "FORM                 3.2878513e-03        6.227204e-03  2.9393525e-03   \n",
       "SORM                 3.2878513e-03       4.4037392e-03   1.115888e-03   \n",
       "CMC                  3.2878513e-03        3.719823e-03  4.3197154e-04   \n",
       "FORM-IS              3.2878513e-03         3.97741e-03  6.8955845e-04   \n",
       "SUBSET               3.2878513e-03           4.672e-03  1.3841486e-03   \n",
       "\n",
       "          Intervalle de confiance nombre d'évaluations  Log erreur relative  \n",
       "FORM            -----------------                   53  0.04866049876709916  \n",
       "SORM            -----------------                   53   0.4692915833305204  \n",
       "CMC      [0.00299211,0.00444754]                 26883    0.881457037137907  \n",
       "FORM-IS  [0.00412115,0.00522285]                   466   0.6783410874207052  \n",
       "SUBSET   [0.00319985,0.00475497]                 30000  0.37572945799544144  "
      ]
     },
     "execution_count": 10,
     "metadata": {},
     "output_type": "execute_result"
    }
   ],
   "source": [
    "\n",
    "method = [\"FORM\", \"SORM\", \"CMC\", \"FORM-IS\", \"SUBSET\"]\n",
    "metrics = [\"Probabilité exacte de \"+name, \"Probabilité estimée\", \"Erreur absolue\",\"Intervalle de confiance\",\n",
    "           \"nombre d'évaluations\", \"Log erreur relative\"]\n",
    "\n",
    "results = l\n",
    "\n",
    "\n",
    "\n",
    "for i in range(len(method)):\n",
    "    results[i][0] =  np.format_float_scientific(np.float32(list[k].getProbability()))\n",
    "\n",
    "for i in range(len(method)):\n",
    "    results[i][1] =  np.format_float_scientific(np.float32(result[i][0]))\n",
    "\n",
    "for i in range(len(method)):\n",
    "    results[i][2] =  np.format_float_scientific(np.float32(result[i][1]))\n",
    "\n",
    "for i in range(len(method)):\n",
    "    results[i][4] =  result[i][3]\n",
    "    \n",
    "for i in range(len(method)):\n",
    "    results[i][5] =  result[i][2]\n",
    "\n",
    "results[0][3] = \"-----------------\"\n",
    "results[1][3] = \"-----------------\"\n",
    "results[2][3] = a\n",
    "\n",
    "results[3][3] = c\n",
    " \n",
    "results[4][3] = b\n",
    "\n",
    "\n",
    "df = pd.DataFrame(results, index = method, columns=metrics)\n",
    "print(\"Function g : \", list[k].getEvent().getFunction())\n",
    "df"
   ]
  }
 ],
 "metadata": {
  "kernelspec": {
   "display_name": "Python 3",
   "language": "python",
   "name": "python3"
  },
  "language_info": {
   "codemirror_mode": {
    "name": "ipython",
    "version": 3
   },
   "file_extension": ".py",
   "mimetype": "text/x-python",
   "name": "python",
   "nbconvert_exporter": "python",
   "pygments_lexer": "ipython3",
   "version": "3.7.4"
  }
 },
 "nbformat": 4,
 "nbformat_minor": 2
}
