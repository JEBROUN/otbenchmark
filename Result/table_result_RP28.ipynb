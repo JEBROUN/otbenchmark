{
 "cells": [
  {
   "cell_type": "code",
   "execution_count": 1,
   "metadata": {},
   "outputs": [],
   "source": [
    "import openturns as ot\n",
    "import numpy as np\n",
    "import otbenchmark as otb\n",
    "import pandas as pd"
   ]
  },
  {
   "cell_type": "code",
   "execution_count": 2,
   "metadata": {},
   "outputs": [],
   "source": [
    "p = otb.OTReliabilityAlgorithmBenchmark()\n",
    "list = p.problemslist"
   ]
  },
  {
   "cell_type": "code",
   "execution_count": 3,
   "metadata": {},
   "outputs": [],
   "source": [
    "k = 5"
   ]
  },
  {
   "cell_type": "code",
   "execution_count": 4,
   "metadata": {},
   "outputs": [
    {
     "data": {
      "text/plain": [
       "'RP28'"
      ]
     },
     "execution_count": 4,
     "metadata": {},
     "output_type": "execute_result"
    }
   ],
   "source": [
    "name = list[k].getName()\n",
    "name"
   ]
  },
  {
   "cell_type": "code",
   "execution_count": 5,
   "metadata": {},
   "outputs": [
    {
     "data": {
      "text/plain": [
       "1000000000"
      ]
     },
     "execution_count": 5,
     "metadata": {},
     "output_type": "execute_result"
    }
   ],
   "source": [
    "N = 10 ** 9\n",
    "N"
   ]
  },
  {
   "cell_type": "code",
   "execution_count": 6,
   "metadata": {},
   "outputs": [],
   "source": [
    "name = list[k].getName()\n",
    "\n",
    "resultsFORM = otb.OTReliabilityAlgorithmBenchmark.FORM(\n",
    "        list[k],\n",
    "        nearestPointAlgo=\"Cobyla\",\n",
    "        maximumEvaluationNumber=100,\n",
    "        maximumAbsoluteError=1.0e-3,\n",
    "        maximumRelativeError=1.0e-3,\n",
    "        maximumResidualError=1.0e-3,\n",
    "        maximumConstraintError=1.0e-3)\n",
    "\n",
    "resultsSORM = otb.OTReliabilityAlgorithmBenchmark.SORM(\n",
    "        list[k],\n",
    "        nearestPointAlgo=\"Cobyla\",\n",
    "        maximumEvaluationNumber=100,\n",
    "        maximumAbsoluteError=1.0e-3,\n",
    "        maximumRelativeError=1.0e-3,\n",
    "        maximumResidualError=1.0e-3,\n",
    "        maximumConstraintError=1.0e-3)\n",
    "\n",
    "resultsMC = otb.OTReliabilityAlgorithmBenchmark.MonteCarloSampling(list[k], maximumOuterSampling=N,\n",
    "                                                                   coefficientOfVariation=0.1, blockSize=2)\n",
    "\n",
    "resultFORMIS = otb.OTReliabilityAlgorithmBenchmark.FORMImportanceSampling(list[k],\n",
    "        nearestPointAlgo=\"Cobyla\",\n",
    "        maximumEvaluationNumber=100,\n",
    "        maximumAbsoluteError=1.0e-3,\n",
    "        maximumRelativeError=1.0e-3,\n",
    "        maximumResidualError=1.0e-3,\n",
    "        maximumConstraintError=1.0e-3,\n",
    "        maximumOuterSampling=N,\n",
    "        coefficientOfVariation=0.1)\n",
    "\n",
    "resultSubset = otb.OTReliabilityAlgorithmBenchmark.SubsetSampling(\n",
    "        list[k], maximumOuterSampling=10000, coefficientOfVariation=0.1, blockSize=1)\n",
    "\n",
    "result = [resultsMC, resultsFORM, resultsSORM, resultFORMIS, resultSubset]"
   ]
  },
  {
   "cell_type": "code",
   "execution_count": 7,
   "metadata": {},
   "outputs": [],
   "source": [
    "a = \"[%.8f,%.8f] \" % ( resultsMC[4], resultsMC[5])\n",
    "\n",
    "\n",
    "b = \"[%.8f,%.8f] \" % ( resultFORMIS[4], resultFORMIS[5])\n",
    "\n",
    "\n",
    "c = \"[%.8f,%.8f] \" % ( resultSubset[4], resultSubset[5])\n"
   ]
  },
  {
   "cell_type": "code",
   "execution_count": 8,
   "metadata": {},
   "outputs": [
    {
     "data": {
      "text/plain": [
       "[[None, None, None, '[0.00000014,0.00000021] ', None],\n",
       " [None, None, None, '[0.00000014,0.00000021] ', None],\n",
       " [None, None, None, '[0.00000014,0.00000021] ', None],\n",
       " [None, None, None, '[0.00000014,0.00000021] ', None],\n",
       " [None, None, None, '[0.00000014,0.00000021] ', None],\n",
       " [None, None, None, '[0.00000014,0.00000021] ', None]]"
      ]
     },
     "execution_count": 8,
     "metadata": {},
     "output_type": "execute_result"
    }
   ],
   "source": [
    "M = [[None]*5]*6\n",
    "\n",
    "M[2][3] = a\n",
    "\n",
    "M"
   ]
  },
  {
   "cell_type": "code",
   "execution_count": 9,
   "metadata": {},
   "outputs": [],
   "source": [
    "l = np.array([[1, 1, 1, a, 1, 1], [1, 1, 1, a, 1, 1], [1, 1, 1, a, 1, 1], [1, 1, 1, a, 1, 1],[1, 1, 1, a, 1, 1]])"
   ]
  },
  {
   "cell_type": "code",
   "execution_count": 10,
   "metadata": {},
   "outputs": [
    {
     "name": "stdout",
     "output_type": "stream",
     "text": [
      "Function g :  [x1,x2]->[ x1 * x2 - 146.14 ]\n"
     ]
    },
    {
     "data": {
      "text/html": [
       "<div>\n",
       "<style scoped>\n",
       "    .dataframe tbody tr th:only-of-type {\n",
       "        vertical-align: middle;\n",
       "    }\n",
       "\n",
       "    .dataframe tbody tr th {\n",
       "        vertical-align: top;\n",
       "    }\n",
       "\n",
       "    .dataframe thead th {\n",
       "        text-align: right;\n",
       "    }\n",
       "</style>\n",
       "<table border=\"1\" class=\"dataframe\">\n",
       "  <thead>\n",
       "    <tr style=\"text-align: right;\">\n",
       "      <th></th>\n",
       "      <th>Probabilité exacte de RP28</th>\n",
       "      <th>Probabilité estimée</th>\n",
       "      <th>Erreur absolue</th>\n",
       "      <th>Intervalle de confiance</th>\n",
       "      <th>nombre d'évaluations</th>\n",
       "      <th>Log erreur relative</th>\n",
       "    </tr>\n",
       "  </thead>\n",
       "  <tbody>\n",
       "    <tr>\n",
       "      <td>CMC</td>\n",
       "      <td>1.4917089e-07</td>\n",
       "      <td>1.7174278e-07</td>\n",
       "      <td>2.2571893e-08</td>\n",
       "      <td>-----------------</td>\n",
       "      <td>873399160</td>\n",
       "      <td>0.8201161049312867</td>\n",
       "    </tr>\n",
       "    <tr>\n",
       "      <td>FORM</td>\n",
       "      <td>1.4917089e-07</td>\n",
       "      <td>8.846209e-03</td>\n",
       "      <td>8.84606e-03</td>\n",
       "      <td>-----------------</td>\n",
       "      <td>101</td>\n",
       "      <td>-4.773065834020024</td>\n",
       "    </tr>\n",
       "    <tr>\n",
       "      <td>SORM</td>\n",
       "      <td>1.4917089e-07</td>\n",
       "      <td>1.0857472e-02</td>\n",
       "      <td>1.0857323e-02</td>\n",
       "      <td>[0.00000014,0.00000021]</td>\n",
       "      <td>101</td>\n",
       "      <td>-4.862038684116551</td>\n",
       "    </tr>\n",
       "    <tr>\n",
       "      <td>FORM-IS</td>\n",
       "      <td>1.4917089e-07</td>\n",
       "      <td>1.027773e-07</td>\n",
       "      <td>4.6393588e-08</td>\n",
       "      <td>[0.00000007,0.00000011]</td>\n",
       "      <td>133892</td>\n",
       "      <td>0.5072261275535662</td>\n",
       "    </tr>\n",
       "    <tr>\n",
       "      <td>SUBSET</td>\n",
       "      <td>1.4917089e-07</td>\n",
       "      <td>8.87e-08</td>\n",
       "      <td>6.047089e-08</td>\n",
       "      <td>[0.00000008,0.00000012]</td>\n",
       "      <td>80000</td>\n",
       "      <td>0.3921377292411602</td>\n",
       "    </tr>\n",
       "  </tbody>\n",
       "</table>\n",
       "</div>"
      ],
      "text/plain": [
       "        Probabilité exacte de RP28 Probabilité estimée Erreur absolue  \\\n",
       "CMC                  1.4917089e-07       1.7174278e-07  2.2571893e-08   \n",
       "FORM                 1.4917089e-07        8.846209e-03    8.84606e-03   \n",
       "SORM                 1.4917089e-07       1.0857472e-02  1.0857323e-02   \n",
       "FORM-IS              1.4917089e-07        1.027773e-07  4.6393588e-08   \n",
       "SUBSET               1.4917089e-07            8.87e-08   6.047089e-08   \n",
       "\n",
       "          Intervalle de confiance nombre d'évaluations Log erreur relative  \n",
       "CMC             -----------------            873399160  0.8201161049312867  \n",
       "FORM            -----------------                  101  -4.773065834020024  \n",
       "SORM     [0.00000014,0.00000021]                   101  -4.862038684116551  \n",
       "FORM-IS  [0.00000007,0.00000011]                133892  0.5072261275535662  \n",
       "SUBSET   [0.00000008,0.00000012]                 80000  0.3921377292411602  "
      ]
     },
     "execution_count": 10,
     "metadata": {},
     "output_type": "execute_result"
    }
   ],
   "source": [
    "\n",
    "method = [\"CMC\", \"FORM\", \"SORM\", \"FORM-IS\", \"SUBSET\"]\n",
    "metrics = [\"Probabilité exacte de \"+name, \"Probabilité estimée\", \"Erreur absolue\",\"Intervalle de confiance\",\n",
    "           \"nombre d'évaluations\", \"Log erreur relative\"]\n",
    "\n",
    "results = l\n",
    "\n",
    "\n",
    "\n",
    "for i in range(len(method)):\n",
    "    results[i][0] =  np.format_float_scientific(np.float32(list[k].getProbability()))\n",
    "\n",
    "for i in range(len(method)):\n",
    "    results[i][1] =  np.format_float_scientific(np.float32(result[i][0]))\n",
    "\n",
    "for i in range(len(method)):\n",
    "    results[i][2] =  np.format_float_scientific(np.float32(result[i][1]))\n",
    "\n",
    "for i in range(len(method)):\n",
    "    results[i][4] =  result[i][3]\n",
    "    \n",
    "for i in range(len(method)):\n",
    "    results[i][5] =  result[i][2]\n",
    "\n",
    "results[0][3] = \"-----------------\"\n",
    "results[1][3] = \"-----------------\"\n",
    "results[2][3] = a\n",
    "\n",
    "results[3][3] = c\n",
    " \n",
    "results[4][3] = b\n",
    "\n",
    "\n",
    "df = pd.DataFrame(results, index = method, columns=metrics)\n",
    "print(\"Function g : \", list[k].getEvent().getFunction())\n",
    "df"
   ]
  },
  {
   "cell_type": "code",
   "execution_count": 11,
   "metadata": {},
   "outputs": [],
   "source": [
    "df.to_csv('problem28.csv')"
   ]
  }
 ],
 "metadata": {
  "kernelspec": {
   "display_name": "Python 3",
   "language": "python",
   "name": "python3"
  },
  "language_info": {
   "codemirror_mode": {
    "name": "ipython",
    "version": 3
   },
   "file_extension": ".py",
   "mimetype": "text/x-python",
   "name": "python",
   "nbconvert_exporter": "python",
   "pygments_lexer": "ipython3",
   "version": "3.7.4"
  }
 },
 "nbformat": 4,
 "nbformat_minor": 2
}
