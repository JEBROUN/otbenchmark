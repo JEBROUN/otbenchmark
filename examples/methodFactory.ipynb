{
 "cells": [
  {
   "cell_type": "code",
   "execution_count": 1,
   "metadata": {},
   "outputs": [],
   "source": [
    "import openturns as ot\n",
    "import numpy as np\n",
    "import otbenchmark as otb"
   ]
  },
  {
   "cell_type": "markdown",
   "metadata": {},
   "source": [
    "On traite ce problème de bbrc"
   ]
  },
  {
   "cell_type": "code",
   "execution_count": 2,
   "metadata": {},
   "outputs": [],
   "source": [
    "problem = otb.ReliabilityProblem8()"
   ]
  },
  {
   "cell_type": "markdown",
   "metadata": {},
   "source": [
    "On utilise la fonction FactoryFORM appliquée à `problem`"
   ]
  },
  {
   "cell_type": "code",
   "execution_count": 3,
   "metadata": {},
   "outputs": [],
   "source": [
    "algoFORM = otb.FORMFactory(problem)"
   ]
  },
  {
   "cell_type": "code",
   "execution_count": 4,
   "metadata": {},
   "outputs": [],
   "source": [
    "algoFORM.run()"
   ]
  },
  {
   "cell_type": "code",
   "execution_count": 5,
   "metadata": {},
   "outputs": [],
   "source": [
    "result = algoFORM.getResult()"
   ]
  },
  {
   "cell_type": "code",
   "execution_count": 6,
   "metadata": {},
   "outputs": [
    {
     "data": {
      "text/html": [
       "<p>class=FORMResult class=AnalyticalResult standardSpaceDesignPoint=class=Point name=Standard Space Design Point dimension=6 values=[-0.35972,-0.695726,-0.695726,-0.35972,2.48661,1.70427] physicalSpaceDesignPoint=class=Point name=Physical Space Design Point dimension=6 values=[115.196,111.399,111.399,115.196,80.2275,54.9699] limitStateVariable=class=RandomVector implementation=class=ThresholdEventImplementation antecedent=class=CompositeRandomVector function=class=Function name=Unnamed implementation=class=FunctionImplementation name=Unnamed description=[x1,x2,x3,x4,x5,x6,y0] evaluationImplementation=class=SymbolicEvaluation name=Unnamed inputVariablesNames=[x1,x2,x3,x4,x5,x6] outputVariablesNames=[y0] formulas=[x1 + 2 * x2 + 2 * x3 + x4 - 5 * x5 - 5 * x6] gradientImplementation=class=SymbolicGradient name=Unnamed evaluation=class=SymbolicEvaluation name=Unnamed inputVariablesNames=[x1,x2,x3,x4,x5,x6] outputVariablesNames=[y0] formulas=[x1 + 2 * x2 + 2 * x3 + x4 - 5 * x5 - 5 * x6] hessianImplementation=class=SymbolicHessian name=Unnamed evaluation=class=SymbolicEvaluation name=Unnamed inputVariablesNames=[x1,x2,x3,x4,x5,x6] outputVariablesNames=[y0] formulas=[x1 + 2 * x2 + 2 * x3 + x4 - 5 * x5 - 5 * x6] antecedent=class=UsualRandomVector distribution=class=ComposedDistribution name=ComposedDistribution dimension=6 copula=class=IndependentCopula name=IndependentCopula dimension=6 marginal[0]=class=ParametrizedDistribution parameters=class=LogNormalMuSigma name=Unnamed mu=120 sigma=12 gamma=0 distribution=class=LogNormal name=LogNormal dimension=1 muLog=4.78252 sigmaLog=0.0997513 gamma=0 marginal[1]=class=ParametrizedDistribution parameters=class=LogNormalMuSigma name=Unnamed mu=120 sigma=12 gamma=0 distribution=class=LogNormal name=LogNormal dimension=1 muLog=4.78252 sigmaLog=0.0997513 gamma=0 marginal[2]=class=ParametrizedDistribution parameters=class=LogNormalMuSigma name=Unnamed mu=120 sigma=12 gamma=0 distribution=class=LogNormal name=LogNormal dimension=1 muLog=4.78252 sigmaLog=0.0997513 gamma=0 marginal[3]=class=ParametrizedDistribution parameters=class=LogNormalMuSigma name=Unnamed mu=120 sigma=12 gamma=0 distribution=class=LogNormal name=LogNormal dimension=1 muLog=4.78252 sigmaLog=0.0997513 gamma=0 marginal[4]=class=ParametrizedDistribution parameters=class=LogNormalMuSigma name=Unnamed mu=50 sigma=10 gamma=0 distribution=class=LogNormal name=LogNormal dimension=1 muLog=3.89241 sigmaLog=0.198042 gamma=0 marginal[5]=class=ParametrizedDistribution parameters=class=LogNormalMuSigma name=Unnamed mu=40 sigma=8 gamma=0 distribution=class=LogNormal name=LogNormal dimension=1 muLog=3.66927 sigmaLog=0.198042 gamma=0 operator=class=Less name=Unnamed threshold=0 isStandardPointOriginInFailureSpace=false hasoferReliabilityIndex=3.21164 importanceFactors=class=PointWithDescription name=Unnamed dimension=6 description=[,,,,,] values=[0,0,0,0,0,0] classicalImportanceFactors=class=PointWithDescription name=Unnamed dimension=6 description=[,,,,,] values=[0,0,0,0,0,0] hasoferReliabilityIndexSensitivity=[] eventProbability=0.000659899 generalisedReliabilityIndex=3.21164 eventProbabilitySensitivity=[]</p>"
      ],
      "text/plain": [
       "class=FORMResult class=AnalyticalResult standardSpaceDesignPoint=class=Point name=Standard Space Design Point dimension=6 values=[-0.35972,-0.695726,-0.695726,-0.35972,2.48661,1.70427] physicalSpaceDesignPoint=class=Point name=Physical Space Design Point dimension=6 values=[115.196,111.399,111.399,115.196,80.2275,54.9699] limitStateVariable=class=RandomVector implementation=class=ThresholdEventImplementation antecedent=class=CompositeRandomVector function=class=Function name=Unnamed implementation=class=FunctionImplementation name=Unnamed description=[x1,x2,x3,x4,x5,x6,y0] evaluationImplementation=class=SymbolicEvaluation name=Unnamed inputVariablesNames=[x1,x2,x3,x4,x5,x6] outputVariablesNames=[y0] formulas=[x1 + 2 * x2 + 2 * x3 + x4 - 5 * x5 - 5 * x6] gradientImplementation=class=SymbolicGradient name=Unnamed evaluation=class=SymbolicEvaluation name=Unnamed inputVariablesNames=[x1,x2,x3,x4,x5,x6] outputVariablesNames=[y0] formulas=[x1 + 2 * x2 + 2 * x3 + x4 - 5 * x5 - 5 * x6] hessianImplementation=class=SymbolicHessian name=Unnamed evaluation=class=SymbolicEvaluation name=Unnamed inputVariablesNames=[x1,x2,x3,x4,x5,x6] outputVariablesNames=[y0] formulas=[x1 + 2 * x2 + 2 * x3 + x4 - 5 * x5 - 5 * x6] antecedent=class=UsualRandomVector distribution=class=ComposedDistribution name=ComposedDistribution dimension=6 copula=class=IndependentCopula name=IndependentCopula dimension=6 marginal[0]=class=ParametrizedDistribution parameters=class=LogNormalMuSigma name=Unnamed mu=120 sigma=12 gamma=0 distribution=class=LogNormal name=LogNormal dimension=1 muLog=4.78252 sigmaLog=0.0997513 gamma=0 marginal[1]=class=ParametrizedDistribution parameters=class=LogNormalMuSigma name=Unnamed mu=120 sigma=12 gamma=0 distribution=class=LogNormal name=LogNormal dimension=1 muLog=4.78252 sigmaLog=0.0997513 gamma=0 marginal[2]=class=ParametrizedDistribution parameters=class=LogNormalMuSigma name=Unnamed mu=120 sigma=12 gamma=0 distribution=class=LogNormal name=LogNormal dimension=1 muLog=4.78252 sigmaLog=0.0997513 gamma=0 marginal[3]=class=ParametrizedDistribution parameters=class=LogNormalMuSigma name=Unnamed mu=120 sigma=12 gamma=0 distribution=class=LogNormal name=LogNormal dimension=1 muLog=4.78252 sigmaLog=0.0997513 gamma=0 marginal[4]=class=ParametrizedDistribution parameters=class=LogNormalMuSigma name=Unnamed mu=50 sigma=10 gamma=0 distribution=class=LogNormal name=LogNormal dimension=1 muLog=3.89241 sigmaLog=0.198042 gamma=0 marginal[5]=class=ParametrizedDistribution parameters=class=LogNormalMuSigma name=Unnamed mu=40 sigma=8 gamma=0 distribution=class=LogNormal name=LogNormal dimension=1 muLog=3.66927 sigmaLog=0.198042 gamma=0 operator=class=Less name=Unnamed threshold=0 isStandardPointOriginInFailureSpace=false hasoferReliabilityIndex=3.21164 importanceFactors=class=PointWithDescription name=Unnamed dimension=6 description=[,,,,,] values=[0,0,0,0,0,0] classicalImportanceFactors=class=PointWithDescription name=Unnamed dimension=6 description=[,,,,,] values=[0,0,0,0,0,0] hasoferReliabilityIndexSensitivity=[] eventProbability=0.000659899 generalisedReliabilityIndex=3.21164 eventProbabilitySensitivity=[]"
      ]
     },
     "execution_count": 6,
     "metadata": {},
     "output_type": "execute_result"
    }
   ],
   "source": [
    "result"
   ]
  },
  {
   "cell_type": "markdown",
   "metadata": {},
   "source": [
    "On utilise la fonction FactorySORM appliquée à `problem`"
   ]
  },
  {
   "cell_type": "code",
   "execution_count": 7,
   "metadata": {},
   "outputs": [],
   "source": [
    "algoSORM = otb.SORMFactory(problem)"
   ]
  },
  {
   "cell_type": "code",
   "execution_count": 8,
   "metadata": {},
   "outputs": [],
   "source": [
    "algoSORM.run()"
   ]
  },
  {
   "cell_type": "code",
   "execution_count": 9,
   "metadata": {},
   "outputs": [],
   "source": [
    "result = algoSORM.getResult()"
   ]
  },
  {
   "cell_type": "code",
   "execution_count": 10,
   "metadata": {},
   "outputs": [
    {
     "data": {
      "text/html": [
       "<p>Probability estimate    (Breitung)=0.000783711<br>\n",
       "Generalised reliability (Breitung)=3.1619<br>\n",
       "Probability estimate    (HohenBichler)=0.000800592<br>\n",
       "Generalised reliability (HohenBichler)=3.15569<br>\n",
       "Probability estimate (Tvedt)=0.000791964<br>\n",
       "Generalised reliability (Tvedt)3.15885</p>"
      ],
      "text/plain": [
       "class=SORMResult class=AnalyticalResult standardSpaceDesignPoint=class=Point name=Standard Space Design Point dimension=6 values=[-0.35972,-0.695726,-0.695726,-0.35972,2.48661,1.70427] physicalSpaceDesignPoint=class=Point name=Physical Space Design Point dimension=6 values=[115.196,111.399,111.399,115.196,80.2275,54.9699] limitStateVariable=class=RandomVector implementation=class=ThresholdEventImplementation antecedent=class=CompositeRandomVector function=class=Function name=Unnamed implementation=class=FunctionImplementation name=Unnamed description=[x1,x2,x3,x4,x5,x6,y0] evaluationImplementation=class=SymbolicEvaluation name=Unnamed inputVariablesNames=[x1,x2,x3,x4,x5,x6] outputVariablesNames=[y0] formulas=[x1 + 2 * x2 + 2 * x3 + x4 - 5 * x5 - 5 * x6] gradientImplementation=class=SymbolicGradient name=Unnamed evaluation=class=SymbolicEvaluation name=Unnamed inputVariablesNames=[x1,x2,x3,x4,x5,x6] outputVariablesNames=[y0] formulas=[x1 + 2 * x2 + 2 * x3 + x4 - 5 * x5 - 5 * x6] hessianImplementation=class=SymbolicHessian name=Unnamed evaluation=class=SymbolicEvaluation name=Unnamed inputVariablesNames=[x1,x2,x3,x4,x5,x6] outputVariablesNames=[y0] formulas=[x1 + 2 * x2 + 2 * x3 + x4 - 5 * x5 - 5 * x6] antecedent=class=UsualRandomVector distribution=class=ComposedDistribution name=ComposedDistribution dimension=6 copula=class=IndependentCopula name=IndependentCopula dimension=6 marginal[0]=class=ParametrizedDistribution parameters=class=LogNormalMuSigma name=Unnamed mu=120 sigma=12 gamma=0 distribution=class=LogNormal name=LogNormal dimension=1 muLog=4.78252 sigmaLog=0.0997513 gamma=0 marginal[1]=class=ParametrizedDistribution parameters=class=LogNormalMuSigma name=Unnamed mu=120 sigma=12 gamma=0 distribution=class=LogNormal name=LogNormal dimension=1 muLog=4.78252 sigmaLog=0.0997513 gamma=0 marginal[2]=class=ParametrizedDistribution parameters=class=LogNormalMuSigma name=Unnamed mu=120 sigma=12 gamma=0 distribution=class=LogNormal name=LogNormal dimension=1 muLog=4.78252 sigmaLog=0.0997513 gamma=0 marginal[3]=class=ParametrizedDistribution parameters=class=LogNormalMuSigma name=Unnamed mu=120 sigma=12 gamma=0 distribution=class=LogNormal name=LogNormal dimension=1 muLog=4.78252 sigmaLog=0.0997513 gamma=0 marginal[4]=class=ParametrizedDistribution parameters=class=LogNormalMuSigma name=Unnamed mu=50 sigma=10 gamma=0 distribution=class=LogNormal name=LogNormal dimension=1 muLog=3.89241 sigmaLog=0.198042 gamma=0 marginal[5]=class=ParametrizedDistribution parameters=class=LogNormalMuSigma name=Unnamed mu=40 sigma=8 gamma=0 distribution=class=LogNormal name=LogNormal dimension=1 muLog=3.66927 sigmaLog=0.198042 gamma=0 operator=class=Less name=Unnamed threshold=0 isStandardPointOriginInFailureSpace=false hasoferReliabilityIndex=3.21164 importanceFactors=class=PointWithDescription name=Unnamed dimension=6 description=[,,,,,] values=[0,0,0,0,0,0] classicalImportanceFactors=class=PointWithDescription name=Unnamed dimension=6 description=[,,,,,] values=[0,0,0,0,0,0] hasoferReliabilityIndexSensitivity=[] sortedCurvatures=class=Point name=Unnamed dimension=0 values=[] eventProbabilityBreitung=-1 eventProbabilityHohenBichler=-1 eventProbabilityTvedt=-1 generalisedReliabilityIndexBreitung=1.79769e+308 generalisedReliabilityIndexHohenBichler=1.79769e+308 generalisedReliabilityIndexTvedt=1.79769e+308 gradientLimitStateFunction_=class=Point name=Unnamed dimension=6 values=[11.4909,22.2244,22.2244,11.4909,-79.4421,-54.4318] hessianLimitStateFunction_=class=SquareMatrix dimension=6 implementation=class=MatrixImplementation name=Unnamed rows=6 columns=6 values=[1.14624,0,0,0,0,0,0,2.21691,0,0,0,0,0,0,2.21691,0,0,0,0,0,0,1.14624,0,0,0,0,0,0,-15.7329,0,0,0,0,0,0,-10.7798]"
      ]
     },
     "execution_count": 10,
     "metadata": {},
     "output_type": "execute_result"
    }
   ],
   "source": [
    "result"
   ]
  },
  {
   "cell_type": "markdown",
   "metadata": {},
   "source": [
    "On utilise la fonction FactoryFORMIS appliquée à `problem`"
   ]
  },
  {
   "cell_type": "code",
   "execution_count": 11,
   "metadata": {},
   "outputs": [
    {
     "data": {
      "text/html": [
       "<p>probabilityEstimate=7.198329e-04 varianceEstimate=5.136367e-09 standard deviation=7.17e-05 coefficient of variation=9.96e-02 confidenceLength(0.95)=2.81e-04 outerSampling=391 blockSize=1</p>"
      ],
      "text/plain": [
       "probabilityEstimate=7.198329e-04 varianceEstimate=5.136367e-09 standard deviation=7.17e-05 coefficient of variation=9.96e-02 confidenceLength(0.95)=2.81e-04 outerSampling=391 blockSize=1"
      ]
     },
     "execution_count": 11,
     "metadata": {},
     "output_type": "execute_result"
    }
   ],
   "source": [
    "algoFORMIS = otb.FORMISFactory(problem)\n",
    "algoFORMIS.run()\n",
    "result = algoFORMIS.getResult()\n",
    "result"
   ]
  },
  {
   "cell_type": "markdown",
   "metadata": {},
   "source": [
    "On utilise la fonction FactoryMonteCarlo appliquée à `problem`"
   ]
  },
  {
   "cell_type": "code",
   "execution_count": 12,
   "metadata": {},
   "outputs": [
    {
     "data": {
      "text/html": [
       "<p>probabilityEstimate=6.900000e-04 varianceEstimate=6.895239e-09 standard deviation=8.30e-05 coefficient of variation=1.20e-01 confidenceLength(0.95)=3.26e-04 outerSampling=100000 blockSize=1</p>"
      ],
      "text/plain": [
       "probabilityEstimate=6.900000e-04 varianceEstimate=6.895239e-09 standard deviation=8.30e-05 coefficient of variation=1.20e-01 confidenceLength(0.95)=3.26e-04 outerSampling=100000 blockSize=1"
      ]
     },
     "execution_count": 12,
     "metadata": {},
     "output_type": "execute_result"
    }
   ],
   "source": [
    "algoMC = otb.MonteCarloFactory(problem)\n",
    "algoMC.setMaximumOuterSampling(100000)\n",
    "algoMC.run()\n",
    "result = algoMC.getResult()\n",
    "result"
   ]
  },
  {
   "cell_type": "code",
   "execution_count": null,
   "metadata": {},
   "outputs": [],
   "source": []
  }
 ],
 "metadata": {
  "kernelspec": {
   "display_name": "Python 3",
   "language": "python",
   "name": "python3"
  },
  "language_info": {
   "codemirror_mode": {
    "name": "ipython",
    "version": 3
   },
   "file_extension": ".py",
   "mimetype": "text/x-python",
   "name": "python",
   "nbconvert_exporter": "python",
   "pygments_lexer": "ipython3",
   "version": "3.7.4"
  }
 },
 "nbformat": 4,
 "nbformat_minor": 2
}
