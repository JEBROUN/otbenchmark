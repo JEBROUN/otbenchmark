{
 "cells": [
  {
   "cell_type": "code",
   "execution_count": 1,
   "metadata": {},
   "outputs": [],
   "source": [
    "# -*- coding: utf8 -*-\n",
    "import os\n",
    "import time\n",
    "import numpy as np\n",
    "import pandas as pd\n",
    "import matplotlib as mpl\n",
    "import matplotlib.pyplot as plt\n",
    "import openturns as ot\n",
    "from openturns.viewer import View\n",
    "import json\n",
    "import requests\n",
    "import math as m"
   ]
  },
  {
   "cell_type": "code",
   "execution_count": 2,
   "metadata": {},
   "outputs": [],
   "source": [
    "from evaluate import evaluate"
   ]
  },
  {
   "cell_type": "code",
   "execution_count": 3,
   "metadata": {},
   "outputs": [],
   "source": [
    "username = 'testuser'\n",
    "password = 'testpass'\n",
    "set_id = -1\n",
    "problem_id  = 2\n",
    "def g_fun(X):\n",
    "        y = 2.5-(X[0]+X[1])/(m.sqrt(2))+0.1*(X[0]-X[1])**2\n",
    "        return [y]"
   ]
  },
  {
   "cell_type": "code",
   "execution_count": 4,
   "metadata": {},
   "outputs": [],
   "source": [
    "x=[0.545, 1.23]"
   ]
  },
  {
   "cell_type": "code",
   "execution_count": 5,
   "metadata": {},
   "outputs": [
    {
     "data": {
      "text/plain": [
       "[1.2918079633938784]"
      ]
     },
     "execution_count": 5,
     "metadata": {},
     "output_type": "execute_result"
    }
   ],
   "source": [
    "g_fun(x)"
   ]
  },
  {
   "cell_type": "code",
   "execution_count": 6,
   "metadata": {},
   "outputs": [
    {
     "data": {
      "text/html": [
       "<p>[1.29181]</p>"
      ],
      "text/plain": [
       "class=Point name=Unnamed dimension=1 values=[1.29181]"
      ]
     },
     "execution_count": 6,
     "metadata": {},
     "output_type": "execute_result"
    }
   ],
   "source": [
    "myFunction = ot.PythonFunction(2, 1, g_fun)\n",
    "myFunction(x)"
   ]
  },
  {
   "cell_type": "code",
   "execution_count": 7,
   "metadata": {},
   "outputs": [],
   "source": [
    "dist_X1 = ot.Normal(0., 1.)\n",
    "dist_X2 = ot.Normal(0., 1.)\n",
    "myDistribution = ot.ComposedDistribution([dist_X1, dist_X2])\n",
    "myRandomVector = ot.RandomVector(myDistribution)"
   ]
  },
  {
   "cell_type": "code",
   "execution_count": 8,
   "metadata": {
    "scrolled": false
   },
   "outputs": [],
   "source": [
    "myFunction = ot.PythonFunction(2, 1, g_fun)\n",
    "myOutputVector = ot.CompositeRandomVector(myFunction, myRandomVector)\n",
    "#myOutputVector.getSample(10)"
   ]
  },
  {
   "cell_type": "code",
   "execution_count": 12,
   "metadata": {},
   "outputs": [],
   "source": [
    "event = ot.Event(myOutputVector, ot.LessOrEqual(), 0.0)\n",
    "# We create an OptimizationAlgorithm algorithm\n",
    "solver = ot.AbdoRackwitz()\n",
    "solver.setMaximumResidualError(1.e-3)\n",
    "algo = ot.SORM(solver, event, [0.,0.])\n",
    "algo.run()\n",
    "result = algo.getResult()"
   ]
  },
  {
   "cell_type": "code",
   "execution_count": 13,
   "metadata": {},
   "outputs": [
    {
     "name": "stdout",
     "output_type": "stream",
     "text": [
      "0.004390896460953273 0.004255693837733513 0.004195123452066455\n"
     ]
    }
   ],
   "source": [
    "print(result.getEventProbabilityBreitung(),\n",
    "result.getEventProbabilityHohenBichler(),\n",
    "result.getEventProbabilityTvedt())"
   ]
  },
  {
   "cell_type": "code",
   "execution_count": 17,
   "metadata": {},
   "outputs": [
    {
     "name": "stdout",
     "output_type": "stream",
     "text": [
      "Design point: [1.76777,1.76777] \n",
      "Absolute error: 1.249999999960748 \n",
      "Residual error: 0.0 \n",
      "Evaluation number: 4\n"
     ]
    }
   ],
   "source": [
    "optres = result.getOptimizationResult()\n",
    "print(\n",
    "\"Design point:\", optres.getOptimalPoint(),\"\\n\" \n",
    "\"Absolute error:\", optres.getAbsoluteError(),\"\\n\"\n",
    "\"Residual error:\", optres.getResidualError() ,\"\\n\" \n",
    "\"Evaluation number:\", optres.getEvaluationNumber())"
   ]
  },
  {
   "cell_type": "code",
   "execution_count": null,
   "metadata": {},
   "outputs": [],
   "source": []
  }
 ],
 "metadata": {
  "kernelspec": {
   "display_name": "Python 3.6 (AMPH)",
   "language": "python",
   "name": "amph"
  },
  "language_info": {
   "codemirror_mode": {
    "name": "ipython",
    "version": 3
   },
   "file_extension": ".py",
   "mimetype": "text/x-python",
   "name": "python",
   "nbconvert_exporter": "python",
   "pygments_lexer": "ipython3",
   "version": "3.6.7"
  },
  "latex_envs": {
   "LaTeX_envs_menu_present": true,
   "autoclose": true,
   "autocomplete": true,
   "bibliofile": "biblio.bib",
   "cite_by": "apalike",
   "current_citInitial": 1,
   "eqLabelWithNumbers": true,
   "eqNumInitial": 1,
   "hotkeys": {
    "equation": "Ctrl-E",
    "itemize": "Ctrl-I"
   },
   "labels_anchors": false,
   "latex_user_defs": false,
   "report_style_numbering": false,
   "user_envs_cfg": false
  },
  "toc": {
   "base_numbering": 1,
   "nav_menu": {},
   "number_sections": true,
   "sideBar": false,
   "skip_h1_title": true,
   "title_cell": "Sommaire",
   "title_sidebar": "Contenu",
   "toc_cell": false,
   "toc_position": {
    "height": "47.7167px",
    "left": "1672px",
    "top": "159.133px",
    "width": "154px"
   },
   "toc_section_display": false,
   "toc_window_display": true
  }
 },
 "nbformat": 4,
 "nbformat_minor": 2
}
