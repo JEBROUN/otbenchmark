{
 "cells": [
  {
   "cell_type": "code",
   "execution_count": 1,
   "metadata": {},
   "outputs": [],
   "source": [
    "import openturns as ot\n",
    "import numpy as np\n",
    "import otbenchmark as otb\n",
    "import pandas as pd"
   ]
  },
  {
   "cell_type": "code",
   "execution_count": 2,
   "metadata": {},
   "outputs": [],
   "source": [
    "p = otb.OTReliabilityAlgorithmBenchmark()\n",
    "list = p.problemslist"
   ]
  },
  {
   "cell_type": "code",
   "execution_count": 3,
   "metadata": {},
   "outputs": [],
   "source": [
    "k = 22"
   ]
  },
  {
   "cell_type": "code",
   "execution_count": 4,
   "metadata": {},
   "outputs": [
    {
     "data": {
      "text/plain": [
       "'RP77'"
      ]
     },
     "execution_count": 4,
     "metadata": {},
     "output_type": "execute_result"
    }
   ],
   "source": [
    "name = list[k].getName()\n",
    "name"
   ]
  },
  {
   "cell_type": "code",
   "execution_count": 5,
   "metadata": {},
   "outputs": [
    {
     "data": {
      "text/plain": [
       "1000000000"
      ]
     },
     "execution_count": 5,
     "metadata": {},
     "output_type": "execute_result"
    }
   ],
   "source": [
    "N = 10 ** 9\n",
    "N"
   ]
  },
  {
   "cell_type": "code",
   "execution_count": 6,
   "metadata": {},
   "outputs": [],
   "source": [
    "name = list[k].getName()\n",
    "\n",
    "resultsFORM = otb.OTReliabilityAlgorithmBenchmark.FORM(\n",
    "        list[k],\n",
    "        nearestPointAlgo=\"Cobyla\",\n",
    "        maximumEvaluationNumber=100,\n",
    "        maximumAbsoluteError=1.0e-3,\n",
    "        maximumRelativeError=1.0e-3,\n",
    "        maximumResidualError=1.0e-3,\n",
    "        maximumConstraintError=1.0e-3)\n",
    "\n",
    "resultsSORM = otb.OTReliabilityAlgorithmBenchmark.SORM(\n",
    "        list[k],\n",
    "        nearestPointAlgo=\"Cobyla\",\n",
    "        maximumEvaluationNumber=100,\n",
    "        maximumAbsoluteError=1.0e-3,\n",
    "        maximumRelativeError=1.0e-3,\n",
    "        maximumResidualError=1.0e-3,\n",
    "        maximumConstraintError=1.0e-3)\n",
    "\n",
    "resultsMC = otb.OTReliabilityAlgorithmBenchmark.MonteCarloSampling(list[k], maximumOuterSampling=N,\n",
    "                                                                   coefficientOfVariation=0.1, blockSize=2)\n",
    "\n",
    "resultFORMIS = otb.OTReliabilityAlgorithmBenchmark.FORMImportanceSampling(list[k],\n",
    "        nearestPointAlgo=\"Cobyla\",\n",
    "        maximumEvaluationNumber=100,\n",
    "        maximumAbsoluteError=1.0e-3,\n",
    "        maximumRelativeError=1.0e-3,\n",
    "        maximumResidualError=1.0e-3,\n",
    "        maximumConstraintError=1.0e-3,\n",
    "        maximumOuterSampling=N,\n",
    "        coefficientOfVariation=0.1)\n",
    "\n",
    "resultSubset = otb.OTReliabilityAlgorithmBenchmark.SubsetSampling(\n",
    "        list[k], maximumOuterSampling=10000, coefficientOfVariation=0.1, blockSize=1)\n",
    "\n",
    "result = [resultsFORM, resultsSORM, resultsMC, resultFORMIS, resultSubset]"
   ]
  },
  {
   "cell_type": "code",
   "execution_count": 7,
   "metadata": {},
   "outputs": [],
   "source": [
    "a = \"[%.8f,%.8f] \" % ( resultsMC[4], resultsMC[5])\n",
    "\n",
    "\n",
    "b = \"[%.8f,%.8f] \" % ( resultFORMIS[4], resultFORMIS[5])\n",
    "\n",
    "\n",
    "c = \"[%.8f,%.8f] \" % ( resultSubset[4], resultSubset[5])\n"
   ]
  },
  {
   "cell_type": "code",
   "execution_count": 8,
   "metadata": {},
   "outputs": [
    {
     "data": {
      "text/plain": [
       "[[None, None, None, '[0.00000026,0.00000038] ', None],\n",
       " [None, None, None, '[0.00000026,0.00000038] ', None],\n",
       " [None, None, None, '[0.00000026,0.00000038] ', None],\n",
       " [None, None, None, '[0.00000026,0.00000038] ', None],\n",
       " [None, None, None, '[0.00000026,0.00000038] ', None],\n",
       " [None, None, None, '[0.00000026,0.00000038] ', None]]"
      ]
     },
     "execution_count": 8,
     "metadata": {},
     "output_type": "execute_result"
    }
   ],
   "source": [
    "M = [[None]*5]*6\n",
    "\n",
    "M[2][3] = a\n",
    "\n",
    "M"
   ]
  },
  {
   "cell_type": "code",
   "execution_count": 9,
   "metadata": {},
   "outputs": [],
   "source": [
    "l = np.array([[1, 1, 1, a, 1, 1], [1, 1, 1, a, 1, 1], [1, 1, 1, a, 1, 1], [1, 1, 1, a, 1, 1],[1, 1, 1, a, 1, 1]])"
   ]
  },
  {
   "cell_type": "code",
   "execution_count": 10,
   "metadata": {},
   "outputs": [
    {
     "name": "stdout",
     "output_type": "stream",
     "text": [
      "Function g :  [x1,x2,x3]->[if (x3 <= 5.0)\n",
      "var g1 := x1 - x2 - x3;\n",
      "else\n",
      "  g1 := x3 - x2;\n",
      "gsys := g1;]\n"
     ]
    },
    {
     "data": {
      "text/html": [
       "<div>\n",
       "<style scoped>\n",
       "    .dataframe tbody tr th:only-of-type {\n",
       "        vertical-align: middle;\n",
       "    }\n",
       "\n",
       "    .dataframe tbody tr th {\n",
       "        vertical-align: top;\n",
       "    }\n",
       "\n",
       "    .dataframe thead th {\n",
       "        text-align: right;\n",
       "    }\n",
       "</style>\n",
       "<table border=\"1\" class=\"dataframe\">\n",
       "  <thead>\n",
       "    <tr style=\"text-align: right;\">\n",
       "      <th></th>\n",
       "      <th>Probabilité exacte de RP77</th>\n",
       "      <th>Probabilité estimée</th>\n",
       "      <th>Erreur absolue</th>\n",
       "      <th>Intervalle de confiance</th>\n",
       "      <th>nombre d'évaluations</th>\n",
       "      <th>Log erreur relative</th>\n",
       "    </tr>\n",
       "  </thead>\n",
       "  <tbody>\n",
       "    <tr>\n",
       "      <td>FORM</td>\n",
       "      <td>2.5572103e-07</td>\n",
       "      <td>5.685943e-02</td>\n",
       "      <td>5.6859173e-02</td>\n",
       "      <td>-----------------</td>\n",
       "      <td>66</td>\n",
       "      <td>-5.347034092454654</td>\n",
       "    </tr>\n",
       "    <tr>\n",
       "      <td>SORM</td>\n",
       "      <td>2.5572103e-07</td>\n",
       "      <td>5.685943e-02</td>\n",
       "      <td>5.6859177e-02</td>\n",
       "      <td>-----------------</td>\n",
       "      <td>91</td>\n",
       "      <td>-5.34703409866876</td>\n",
       "    </tr>\n",
       "    <tr>\n",
       "      <td>CMC</td>\n",
       "      <td>2.5572103e-07</td>\n",
       "      <td>3.1819812e-07</td>\n",
       "      <td>6.247707e-08</td>\n",
       "      <td>[0.00000026,0.00000038]</td>\n",
       "      <td>471404436</td>\n",
       "      <td>0.6120457835514861</td>\n",
       "    </tr>\n",
       "    <tr>\n",
       "      <td>FORM-IS</td>\n",
       "      <td>2.5572103e-07</td>\n",
       "      <td>2.3991424e-07</td>\n",
       "      <td>1.5806783e-08</td>\n",
       "      <td>[0.00000023,0.00000038]</td>\n",
       "      <td>1752987</td>\n",
       "      <td>1.2089229516902544</td>\n",
       "    </tr>\n",
       "    <tr>\n",
       "      <td>SUBSET</td>\n",
       "      <td>2.5572103e-07</td>\n",
       "      <td>3.0708492e-07</td>\n",
       "      <td>5.1363873e-08</td>\n",
       "      <td>[0.00000019,0.00000029]</td>\n",
       "      <td>70000</td>\n",
       "      <td>0.6971087047470426</td>\n",
       "    </tr>\n",
       "  </tbody>\n",
       "</table>\n",
       "</div>"
      ],
      "text/plain": [
       "        Probabilité exacte de RP77 Probabilité estimée Erreur absolue  \\\n",
       "FORM                 2.5572103e-07        5.685943e-02  5.6859173e-02   \n",
       "SORM                 2.5572103e-07        5.685943e-02  5.6859177e-02   \n",
       "CMC                  2.5572103e-07       3.1819812e-07   6.247707e-08   \n",
       "FORM-IS              2.5572103e-07       2.3991424e-07  1.5806783e-08   \n",
       "SUBSET               2.5572103e-07       3.0708492e-07  5.1363873e-08   \n",
       "\n",
       "          Intervalle de confiance nombre d'évaluations Log erreur relative  \n",
       "FORM            -----------------                   66  -5.347034092454654  \n",
       "SORM            -----------------                   91   -5.34703409866876  \n",
       "CMC      [0.00000026,0.00000038]             471404436  0.6120457835514861  \n",
       "FORM-IS  [0.00000023,0.00000038]               1752987  1.2089229516902544  \n",
       "SUBSET   [0.00000019,0.00000029]                 70000  0.6971087047470426  "
      ]
     },
     "execution_count": 10,
     "metadata": {},
     "output_type": "execute_result"
    }
   ],
   "source": [
    "\n",
    "method = [\"FORM\", \"SORM\", \"CMC\", \"FORM-IS\", \"SUBSET\"]\n",
    "metrics = [\"Probabilité exacte de \"+name, \"Probabilité estimée\", \"Erreur absolue\",\"Intervalle de confiance\",\n",
    "           \"nombre d'évaluations\", \"Log erreur relative\"]\n",
    "\n",
    "results = l\n",
    "\n",
    "\n",
    "\n",
    "for i in range(len(method)):\n",
    "    results[i][0] =  np.format_float_scientific(np.float32(list[k].getProbability()))\n",
    "\n",
    "for i in range(len(method)):\n",
    "    results[i][1] =  np.format_float_scientific(np.float32(result[i][0]))\n",
    "\n",
    "for i in range(len(method)):\n",
    "    results[i][2] =  np.format_float_scientific(np.float32(result[i][1]))\n",
    "\n",
    "for i in range(len(method)):\n",
    "    results[i][4] =  result[i][3]\n",
    "    \n",
    "for i in range(len(method)):\n",
    "    results[i][5] =  result[i][2]\n",
    "\n",
    "results[0][3] = \"-----------------\"\n",
    "results[1][3] = \"-----------------\"\n",
    "results[2][3] = a\n",
    "\n",
    "results[3][3] = c\n",
    " \n",
    "results[4][3] = b\n",
    "\n",
    "\n",
    "df = pd.DataFrame(results, index = method, columns=metrics)\n",
    "print(\"Function g : \", list[k].getEvent().getFunction())\n",
    "df"
   ]
  }
 ],
 "metadata": {
  "kernelspec": {
   "display_name": "Python 3",
   "language": "python",
   "name": "python3"
  },
  "language_info": {
   "codemirror_mode": {
    "name": "ipython",
    "version": 3
   },
   "file_extension": ".py",
   "mimetype": "text/x-python",
   "name": "python",
   "nbconvert_exporter": "python",
   "pygments_lexer": "ipython3",
   "version": "3.7.4"
  }
 },
 "nbformat": 4,
 "nbformat_minor": 2
}
