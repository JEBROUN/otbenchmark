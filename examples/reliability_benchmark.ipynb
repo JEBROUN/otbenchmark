{
 "cells": [
  {
   "cell_type": "markdown",
   "metadata": {},
   "source": [
    "# Benchmark on a given set of problems\n",
    "\n",
    "In this example, we show how to make a loop over the problems in the benchmark. We also show how to run various reliability algorithms on a given problem so that we can score the methods using number of digits or performance."
   ]
  },
  {
   "cell_type": "code",
   "execution_count": 1,
   "metadata": {},
   "outputs": [],
   "source": [
    "import openturns as ot\n",
    "import numpy as np\n",
    "import otbenchmark as otb\n",
    "import openturns.viewer as otv\n",
    "import pylab as pl"
   ]
  },
  {
   "cell_type": "markdown",
   "metadata": {},
   "source": [
    "## Browse the reliability problems"
   ]
  },
  {
   "cell_type": "markdown",
   "metadata": {},
   "source": [
    "We present the BBRC test cases using the otbenchmark module. "
   ]
  },
  {
   "cell_type": "code",
   "execution_count": 2,
   "metadata": {},
   "outputs": [
    {
     "data": {
      "text/plain": [
       "26"
      ]
     },
     "execution_count": 2,
     "metadata": {},
     "output_type": "execute_result"
    }
   ],
   "source": [
    "benchmarkProblemList = otb.ReliabilityBenchmarkProblemList()\n",
    "numberOfProblems = len(benchmarkProblemList)\n",
    "numberOfProblems"
   ]
  },
  {
   "cell_type": "code",
   "execution_count": 3,
   "metadata": {},
   "outputs": [
    {
     "name": "stdout",
     "output_type": "stream",
     "text": [
      "# 0 : RP8  : pf =  0.000784 , dimension= 6\n",
      "# 1 : RP14  : pf =  0.00752 , dimension= 5\n",
      "# 2 : RP22  : pf =  0.00416 , dimension= 2\n",
      "# 3 : RP24  : pf =  0.00286 , dimension= 2\n",
      "# 4 : RP25  : pf =  6.14e-06 , dimension= 2\n",
      "# 5 : RP28  : pf =  1.46e-07 , dimension= 2\n",
      "# 6 : RP31  : pf =  0.00018 , dimension= 2\n",
      "# 7 : RP33  : pf =  0.00257 , dimension= 3\n",
      "# 8 : RP35  : pf =  0.00354 , dimension= 2\n",
      "# 9 : RP38  : pf =  0.0081 , dimension= 7\n",
      "# 10 : RP53  : pf =  0.0313 , dimension= 2\n",
      "# 11 : RP55  : pf =  0.36 , dimension= 2\n",
      "# 12 : RP54  : pf =  0.000998 , dimension= 20\n",
      "# 13 : RP57  : pf =  0.0284 , dimension= 2\n",
      "# 14 : RP75  : pf =  0.0107 , dimension= 2\n",
      "# 15 : RP89  : pf =  0.00543 , dimension= 2\n",
      "# 16 : RP107  : pf =  2.92e-07 , dimension= 10\n",
      "# 17 : RP110  : pf =  3.19e-05 , dimension= 2\n",
      "# 18 : RP111  : pf =  7.65e-07 , dimension= 2\n",
      "# 19 : RP63  : pf =  0.000379 , dimension= 100\n",
      "# 20 : RP91  : pf =  0.000697 , dimension= 5\n",
      "# 21 : RP60  : pf =  0.0456 , dimension= 5\n",
      "# 22 : RP77  : pf =  2.87e-07 , dimension= 3\n",
      "# 23 : Four-branch serial system (Waarts, 2000)  : pf =  0.0021859614549132322 , dimension= 2\n",
      "# 24 : R-S  : pf =  0.07864960352514257 , dimension= 2\n",
      "# 25 : Axial stressed beam  : pf =  0.029198194624830955 , dimension= 2\n"
     ]
    }
   ],
   "source": [
    "for i in range(numberOfProblems):\n",
    "    problem = benchmarkProblemList[i]\n",
    "    name = problem.getName()\n",
    "    pf = problem.getProbability()\n",
    "    event = problem.getEvent()\n",
    "    antecedent = event.getAntecedent()\n",
    "    distribution = antecedent.getDistribution()\n",
    "    dimension = distribution.getDimension()\n",
    "    print(\"#\", i, \":\", name, \" : pf = \", pf, \", dimension=\", dimension)"
   ]
  },
  {
   "cell_type": "markdown",
   "metadata": {},
   "source": [
    "# The FORM method"
   ]
  },
  {
   "cell_type": "code",
   "execution_count": 4,
   "metadata": {},
   "outputs": [
    {
     "data": {
      "text/plain": [
       "7"
      ]
     },
     "execution_count": 4,
     "metadata": {},
     "output_type": "execute_result"
    }
   ],
   "source": [
    "problem = otb.ReliabilityProblem8()\n",
    "[\n",
    "    computedProbability,\n",
    "    absoluteError,\n",
    "    numberOfCorrectDigits,\n",
    "    numberOfFunctionEvaluationsFORM,\n",
    "] = otb.OTReliabilityAlgorithmBenchmark.FORM(problem)\n",
    "numberOfFunctionEvaluationsFORM"
   ]
  },
  {
   "cell_type": "markdown",
   "metadata": {},
   "source": [
    "# The SORM method"
   ]
  },
  {
   "cell_type": "code",
   "execution_count": 5,
   "metadata": {},
   "outputs": [
    {
     "data": {
      "text/plain": [
       "7"
      ]
     },
     "execution_count": 5,
     "metadata": {},
     "output_type": "execute_result"
    }
   ],
   "source": [
    "problem = otb.ReliabilityProblem8()\n",
    "[\n",
    "    computedProbability,\n",
    "    absoluteError,\n",
    "    numberOfCorrectDigits,\n",
    "    numberOfFunctionEvaluationsSORM,\n",
    "] = otb.OTReliabilityAlgorithmBenchmark.SORM(problem)\n",
    "numberOfFunctionEvaluationsSORM"
   ]
  },
  {
   "cell_type": "markdown",
   "metadata": {},
   "source": [
    "## The LHS method"
   ]
  },
  {
   "cell_type": "code",
   "execution_count": 6,
   "metadata": {},
   "outputs": [
    {
     "data": {
      "text/plain": [
       "100000"
      ]
     },
     "execution_count": 6,
     "metadata": {},
     "output_type": "execute_result"
    }
   ],
   "source": [
    "problem = otb.ReliabilityProblem8()\n",
    "[\n",
    "    computedProbability,\n",
    "    absoluteError,\n",
    "    numberOfCorrectDigits,\n",
    "    numberOfFunctionEvaluations,\n",
    "    graph,\n",
    "] = otb.OTReliabilityAlgorithmBenchmark.LHS(problem)\n",
    "numberOfFunctionEvaluations"
   ]
  },
  {
   "cell_type": "markdown",
   "metadata": {},
   "source": [
    "# The MonteCarloSampling method"
   ]
  },
  {
   "cell_type": "code",
   "execution_count": 7,
   "metadata": {},
   "outputs": [
    {
     "data": {
      "text/plain": [
       "1000"
      ]
     },
     "execution_count": 7,
     "metadata": {},
     "output_type": "execute_result"
    }
   ],
   "source": [
    "problem = otb.ReliabilityProblem8()\n",
    "[\n",
    "    computedProbability,\n",
    "    absoluteError,\n",
    "    numberOfCorrectDigits,\n",
    "    numberOfFunctionEvaluationsMonteCarlo,\n",
    "    graph,\n",
    "] = otb.OTReliabilityAlgorithmBenchmark.MonteCarloSampling(problem)\n",
    "numberOfFunctionEvaluationsMonteCarlo"
   ]
  },
  {
   "cell_type": "markdown",
   "metadata": {},
   "source": [
    "# The FORM - Importance Sampling method"
   ]
  },
  {
   "cell_type": "code",
   "execution_count": 8,
   "metadata": {},
   "outputs": [
    {
     "data": {
      "text/plain": [
       "373"
      ]
     },
     "execution_count": 8,
     "metadata": {},
     "output_type": "execute_result"
    }
   ],
   "source": [
    "problem = otb.ReliabilityProblem8()\n",
    "[\n",
    "    computedProbability,\n",
    "    absoluteError,\n",
    "    numberOfCorrectDigits,\n",
    "    numberOfFunctionEvaluationsFORMIS,\n",
    "    graph,\n",
    "] = otb.OTReliabilityAlgorithmBenchmark.FORMImportanceSampling(problem)\n",
    "numberOfFunctionEvaluationsFORMIS"
   ]
  },
  {
   "cell_type": "markdown",
   "metadata": {},
   "source": [
    "# The Subset method"
   ]
  },
  {
   "cell_type": "code",
   "execution_count": 9,
   "metadata": {},
   "outputs": [
    {
     "data": {
      "text/plain": [
       "20000"
      ]
     },
     "execution_count": 9,
     "metadata": {},
     "output_type": "execute_result"
    }
   ],
   "source": [
    "problem = otb.ReliabilityProblem8()\n",
    "[\n",
    "    computedProbability,\n",
    "    absoluteError,\n",
    "    numberOfCorrectDigits,\n",
    "    numberOfFunctionEvaluationsSS,\n",
    "    graph,\n",
    "] = otb.OTReliabilityAlgorithmBenchmark.SubsetSampling(problem)\n",
    "numberOfFunctionEvaluationsSS"
   ]
  },
  {
   "cell_type": "markdown",
   "metadata": {},
   "source": [
    "The following function computes the number of correct base-10 digits in the computed result compared to the exact result."
   ]
  },
  {
   "cell_type": "markdown",
   "metadata": {},
   "source": [
    "The `CompareMethods` function takes as a parameter a problem and it returns the probabilities estimated by each method. In addition, it returns the performance of these methods."
   ]
  },
  {
   "cell_type": "code",
   "execution_count": 10,
   "metadata": {},
   "outputs": [],
   "source": [
    "def PrintResults(\n",
    "    name, pfComputed, numberOfFunctionCalls, logRelativeError, performance\n",
    "):\n",
    "    print(\"------------------------------------------------------------------\")\n",
    "    print(name)\n",
    "    print(\"Estimated probability:\", pfComputed)\n",
    "    print(\"Number of function calls:\", numberOfFunctionCalls)\n",
    "    print(\"Number of correct digits=%.3f\" % (logRelativeError))\n",
    "    print(\"Performance=%.2e (correct digits/evaluation)\" % (performance))\n",
    "    return None"
   ]
  },
  {
   "cell_type": "code",
   "execution_count": 11,
   "metadata": {},
   "outputs": [],
   "source": [
    "def CompareMethods(problem):\n",
    "    \"\"\"\n",
    "    Runs various algorithms on a given problem.\n",
    "    \"\"\"\n",
    "    correctDigitsList = []\n",
    "    performanceList = []\n",
    "    pfReference = problem.getProbability()\n",
    "    print(\"Exact probability:\", pf)\n",
    "    # SubsetSampling\n",
    "    [\n",
    "        computedProbability,\n",
    "        absoluteError,\n",
    "        logRelativeError1,\n",
    "        numberOfFunctionEvaluationsSS,\n",
    "        graph,\n",
    "    ] = otb.OTReliabilityAlgorithmBenchmark.SubsetSampling(problem)\n",
    "    correctDigitsList.append(logRelativeError1)\n",
    "    performance1 = logRelativeError1 / numberOfFunctionEvaluationsSS\n",
    "    performanceList.append(performance1)\n",
    "    PrintResults(\n",
    "        \"SubsetSampling\",\n",
    "        computedProbability,\n",
    "        numberOfFunctionEvaluationsSS,\n",
    "        logRelativeError1,\n",
    "        performance1,\n",
    "    )\n",
    "    # FORM\n",
    "    [\n",
    "        computedProbability,\n",
    "        absoluteError,\n",
    "        logRelativeError2,\n",
    "        numberOfFunctionEvaluationsFORM,\n",
    "    ] = otb.OTReliabilityAlgorithmBenchmark.FORM(problem)\n",
    "    correctDigitsList.append(logRelativeError2)\n",
    "    performance2 = logRelativeError2 / numberOfFunctionEvaluationsFORM\n",
    "    performanceList.append(performance2)\n",
    "    PrintResults(\n",
    "        \"FORM\",\n",
    "        computedProbability,\n",
    "        numberOfFunctionEvaluationsFORM,\n",
    "        logRelativeError2,\n",
    "        performance2,\n",
    "    )\n",
    "    # SORM\n",
    "    [\n",
    "        computedProbability,\n",
    "        absoluteError,\n",
    "        logRelativeError3,\n",
    "        numberOfFunctionEvaluationsSORM,\n",
    "    ] = otb.OTReliabilityAlgorithmBenchmark.SORM(problem)\n",
    "    correctDigitsList.append(logRelativeError3)\n",
    "    performance3 = logRelativeError3 / numberOfFunctionEvaluationsSORM\n",
    "    performanceList.append(performance3)\n",
    "    PrintResults(\n",
    "        \"SORM-Breitung\",\n",
    "        computedProbability,\n",
    "        numberOfFunctionEvaluationsSORM,\n",
    "        logRelativeError3,\n",
    "        performance3,\n",
    "    )\n",
    "    # FORM - ImportanceSampling\n",
    "    [\n",
    "        computedProbability,\n",
    "        absoluteError,\n",
    "        logRelativeError4,\n",
    "        numberOfFunctionEvaluationsFORMIS,\n",
    "        graph,\n",
    "    ] = otb.OTReliabilityAlgorithmBenchmark.FORMImportanceSampling(problem)\n",
    "    correctDigitsList.append(logRelativeError4)\n",
    "    performance4 = logRelativeError4 / numberOfFunctionEvaluationsFORMIS\n",
    "    performanceList.append(performance4)\n",
    "    PrintResults(\n",
    "        \"FORM-ImportanceSampling\",\n",
    "        computedProbability,\n",
    "        numberOfFunctionEvaluationsFORMIS,\n",
    "        logRelativeError4,\n",
    "        performance4,\n",
    "    )\n",
    "    # MonteCarloSampling\n",
    "    [\n",
    "        computedProbability,\n",
    "        absoluteError,\n",
    "        logRelativeError5,\n",
    "        numberOfFunctionEvaluationsMonteCarlo,\n",
    "        graph,\n",
    "    ] = otb.OTReliabilityAlgorithmBenchmark.MonteCarloSampling(problem)\n",
    "    correctDigitsList.append(logRelativeError5)\n",
    "    performance5 = logRelativeError5 / numberOfFunctionEvaluationsMonteCarlo\n",
    "    performanceList.append(performance5)\n",
    "    PrintResults(\n",
    "        \"MonteCarloSampling\",\n",
    "        computedProbability,\n",
    "        numberOfFunctionEvaluationsMonteCarlo,\n",
    "        logRelativeError5,\n",
    "        performance5,\n",
    "    )\n",
    "    # LHS\n",
    "    [\n",
    "        computedProbability,\n",
    "        absoluteError,\n",
    "        logRelativeError6,\n",
    "        numberOfFunctionEvaluations,\n",
    "        graph,\n",
    "    ] = otb.OTReliabilityAlgorithmBenchmark.LHS(problem)\n",
    "    correctDigitsList.append(logRelativeError6)\n",
    "    performance6 = logRelativeError5 / numberOfFunctionEvaluations\n",
    "    performanceList.append(performance6)\n",
    "    PrintResults(\n",
    "        \"LHS\",\n",
    "        computedProbability,\n",
    "        numberOfFunctionEvaluations,\n",
    "        logRelativeError6,\n",
    "        performance6,\n",
    "    )\n",
    "    #\n",
    "    correctDigitsList.sort()\n",
    "    performanceList.sort()\n",
    "    numberOfMethods = len(correctDigitsList)\n",
    "    print(\"------------------------------------------------------------------------\")\n",
    "    print(\"Scoring by number of correct digits\")\n",
    "    print(\n",
    "        \"SubsetSampling : \",\n",
    "        numberOfMethods - correctDigitsList.index(logRelativeError1),\n",
    "    )\n",
    "    print(\"FORM : \", numberOfMethods - correctDigitsList.index(logRelativeError2))\n",
    "    print(\"SORM : \", numberOfMethods - correctDigitsList.index(logRelativeError3))\n",
    "    print(\"FORMIS: \", numberOfMethods - correctDigitsList.index(logRelativeError4))\n",
    "    print(\n",
    "        \"MonteCarlo : \", numberOfMethods - correctDigitsList.index(logRelativeError5),\n",
    "    )\n",
    "    print(\"LHS : \", numberOfMethods - correctDigitsList.index(logRelativeError6))\n",
    "    print(\"------------------------------------------------------------------------\")\n",
    "    print(\"Scoring by performance\")\n",
    "    print(\"SubsetSampling : \", numberOfMethods - performanceList.index(performance1))\n",
    "    print(\"FORM : \", numberOfMethods - performanceList.index(performance2))\n",
    "    print(\"SORM : \", numberOfMethods - performanceList.index(performance3))\n",
    "    print(\n",
    "        \"FORM-ImportanceSampling: \",\n",
    "        numberOfMethods - performanceList.index(performance4),\n",
    "    )\n",
    "    print(\"MonteCarlo : \", numberOfMethods - performanceList.index(performance5))\n",
    "    print(\"LHS : \", numberOfMethods - performanceList.index(performance5))\n",
    "    return None"
   ]
  },
  {
   "cell_type": "code",
   "execution_count": 12,
   "metadata": {},
   "outputs": [
    {
     "name": "stdout",
     "output_type": "stream",
     "text": [
      "Exact probability: 0.029198194624830955\n",
      "------------------------------------------------------------------\n",
      "SubsetSampling\n",
      "Estimated probability: 0.0009103440000000021\n",
      "Number of function calls: 20000\n",
      "Number of correct digits=0.793\n",
      "Performance=3.96e-05 (correct digits/evaluation)\n",
      "------------------------------------------------------------------\n",
      "FORM\n",
      "Estimated probability: 0.000659887791408224\n",
      "Number of function calls: 7\n",
      "Number of correct digits=0.801\n",
      "Performance=1.14e-01 (correct digits/evaluation)\n",
      "------------------------------------------------------------------\n",
      "SORM-Breitung\n",
      "Estimated probability: 0.0007838036444007566\n",
      "Number of function calls: 7\n",
      "Number of correct digits=3.601\n",
      "Performance=5.14e-01 (correct digits/evaluation)\n",
      "------------------------------------------------------------------\n",
      "FORM-ImportanceSampling\n",
      "Estimated probability: 0.0007133475569215097\n",
      "Number of function calls: 418\n",
      "Number of correct digits=1.045\n",
      "Performance=2.50e-03 (correct digits/evaluation)\n",
      "------------------------------------------------------------------\n",
      "MonteCarloSampling\n",
      "Estimated probability: 0.0009999999999999985\n",
      "Number of function calls: 1000\n",
      "Number of correct digits=0.560\n",
      "Performance=5.60e-04 (correct digits/evaluation)\n",
      "------------------------------------------------------------------\n",
      "LHS\n",
      "Estimated probability: 0.0007399999999999972\n",
      "Number of function calls: 100000\n",
      "Number of correct digits=1.251\n",
      "Performance=5.60e-06 (correct digits/evaluation)\n",
      "------------------------------------------------------------------------\n",
      "Scoring by number of correct digits\n",
      "SubsetSampling :  5\n",
      "FORM :  4\n",
      "SORM :  1\n",
      "FORMIS:  3\n",
      "MonteCarlo :  6\n",
      "LHS :  2\n",
      "------------------------------------------------------------------------\n",
      "Scoring by performance\n",
      "SubsetSampling :  5\n",
      "FORM :  2\n",
      "SORM :  1\n",
      "FORM-ImportanceSampling:  3\n",
      "MonteCarlo :  4\n",
      "LHS :  4\n"
     ]
    }
   ],
   "source": [
    "problem = otb.ReliabilityProblem8()\n",
    "CompareMethods(problem)"
   ]
  },
  {
   "cell_type": "markdown",
   "metadata": {},
   "source": [
    "We can also show the convergence graphs, for example Problem57."
   ]
  },
  {
   "cell_type": "code",
   "execution_count": 13,
   "metadata": {},
   "outputs": [
    {
     "data": {
      "image/png": "[encoded data removed]",
      "text/plain": [
       "<Figure size 1008x360 with 2 Axes>"
      ]
     },
     "metadata": {
      "needs_background": "light"
     },
     "output_type": "display_data"
    }
   ],
   "source": [
    "problem = otb.ReliabilityProblem57()\n",
    "[\n",
    "    computedProbability,\n",
    "    absoluteError,\n",
    "    numberOfCorrectDigits,\n",
    "    numberOfFunctionEvaluationsMonteCarlo,\n",
    "    graphMC,\n",
    "] = otb.OTReliabilityAlgorithmBenchmark.MonteCarloSampling(problem)\n",
    "[\n",
    "    computedProbability,\n",
    "    absoluteError,\n",
    "    numberOfCorrectDigits,\n",
    "    numberOfFunctionEvaluationsFORMIS,\n",
    "    graphFORMIS,\n",
    "] = otb.OTReliabilityAlgorithmBenchmark.FORMImportanceSampling(problem)\n",
    "\n",
    "fig = pl.figure(figsize=(14, 5))\n",
    "ax_1 = fig.add_subplot(1, 2, 1)\n",
    "_ = otv.View(graphMC, figure=fig, axes=[ax_1])\n",
    "ax_2 = fig.add_subplot(1, 2, 2)\n",
    "_ = otv.View(graphFORMIS, figure=fig, axes=[ax_2])\n",
    "_ = fig.suptitle(\"MonteCarlo and FORMIS convergence\")"
   ]
  },
  {
   "cell_type": "code",
   "execution_count": 14,
   "metadata": {},
   "outputs": [
    {
     "data": {
      "image/png": "[encoded data removed]",
      "text/plain": [
       "class=Graph name=SubsetSampling convergence graph at level 0.95 implementation=class=GraphImplementation name=SubsetSampling convergence graph at level 0.95 title=SubsetSampling convergence graph at level 0.95 xTitle=outer iteration yTitle=estimate axes=ON grid=ON legendposition=topright legendFontSize=1 drawables=[class=Drawable name=probability estimate implementation=class=Curve name=probability estimate derived from class=DrawableImplementation name=probability estimate legend=probability estimate data=class=Sample name=Unnamed implementation=class=SampleImplementation name=Unnamed size=1250 dimension=2 data=[[1,0],[2,0],[3,0],...,[1248,0],[1249,0],[1250,0]] color=red fillStyle=solid lineStyle=solid pointStyle=none lineWidth=2,class=Drawable name=bounds implementation=class=Curve name=bounds derived from class=DrawableImplementation name=bounds legend=bounds data=class=Sample name=Unnamed implementation=class=SampleImplementation name=Unnamed size=1250 dimension=2 data=[[1,0],[2,0],[3,0],...,[1248,0],[1249,0],[1250,0]] color=green fillStyle=solid lineStyle=solid pointStyle=none lineWidth=1,class=Drawable name=Unnamed implementation=class=Curve name=Unnamed derived from class=DrawableImplementation name=Unnamed legend= data=class=Sample name=Unnamed implementation=class=SampleImplementation name=Unnamed size=1250 dimension=2 data=[[1,0],[2,0],[3,0],...,[1248,0],[1249,0],[1250,0]] color=green fillStyle=solid lineStyle=solid pointStyle=none lineWidth=1]"
      ]
     },
     "execution_count": 14,
     "metadata": {},
     "output_type": "execute_result"
    }
   ],
   "source": [
    "problem = otb.ReliabilityProblem60()\n",
    "graphe3 = otb.OTReliabilityAlgorithmBenchmark.SubsetSampling(problem)[4]\n",
    "graphe3"
   ]
  },
  {
   "cell_type": "markdown",
   "metadata": {},
   "source": [
    "# Remarks\n",
    "\n",
    "* We note that the FORM and SORM methods are faster, but, they do not converge to the exact proba.\n",
    "* We also notice the effectiveness of the ImpotanceSampling method (inexpensive method, and converges).\n",
    "* The convergence of the MonteCarlo method requires a large number of simulations.\n",
    "* SubsetSampling converges even if the probability is very low.\n"
   ]
  },
  {
   "cell_type": "code",
   "execution_count": null,
   "metadata": {},
   "outputs": [],
   "source": []
  }
 ],
 "metadata": {
  "kernelspec": {
   "display_name": "Python 3",
   "language": "python",
   "name": "python3"
  },
  "language_info": {
   "codemirror_mode": {
    "name": "ipython",
    "version": 3
   },
   "file_extension": ".py",
   "mimetype": "text/x-python",
   "name": "python",
   "nbconvert_exporter": "python",
   "pygments_lexer": "ipython3",
   "version": "3.7.6"
  }
 },
 "nbformat": 4,
 "nbformat_minor": 2
}
